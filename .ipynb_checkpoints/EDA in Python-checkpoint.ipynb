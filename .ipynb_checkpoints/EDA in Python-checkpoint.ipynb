{
 "cells": [
  {
   "cell_type": "markdown",
   "id": "0b8396bc",
   "metadata": {},
   "source": [
    "# EDA in Python\n",
    "This assignment requires a certain amount of research and initiative, as not all tasks and subtasks are fully defined. You are expected to employ critical and creative thinking skills to complete this assignment in a comprehensive manner.\n",
    "\n",
    "## Task 1\n",
    "Refer to the assigned readings for examples on how to approach EDA in a professional manner.\n",
    "\n",
    "## Task 2\n",
    "Select a dataset from a reputable source (e.g., from Kaggle, UCI Machine Learning Repository) from the list of \"Repositories for Finding Suitable Datasets,\" located in Class Resources, that is suitable for exploratory data analysis. The dataset should have at least 10 variables and 1,000 rows.\n",
    "\n",
    "<b>Dataset selected:</b> [Used Car Auction Prices | Kaggle](https://www.kaggle.com/datasets/tunguz/used-car-auction-prices) <br>\n",
    "<b>Description:</b> \"The dataset contains historical car auction sales prices, scraped from the outside internet sources. The dataset has been collected in 2015, and will not be updated.\""
   ]
  },
  {
   "cell_type": "code",
   "execution_count": 2,
   "id": "6025b569",
   "metadata": {},
   "outputs": [
    {
     "data": {
      "text/html": [
       "<div>\n",
       "<style scoped>\n",
       "    .dataframe tbody tr th:only-of-type {\n",
       "        vertical-align: middle;\n",
       "    }\n",
       "\n",
       "    .dataframe tbody tr th {\n",
       "        vertical-align: top;\n",
       "    }\n",
       "\n",
       "    .dataframe thead th {\n",
       "        text-align: right;\n",
       "    }\n",
       "</style>\n",
       "<table border=\"1\" class=\"dataframe\">\n",
       "  <thead>\n",
       "    <tr style=\"text-align: right;\">\n",
       "      <th></th>\n",
       "      <th>year</th>\n",
       "      <th>make</th>\n",
       "      <th>model</th>\n",
       "      <th>trim</th>\n",
       "      <th>body</th>\n",
       "      <th>transmission</th>\n",
       "      <th>vin</th>\n",
       "      <th>state</th>\n",
       "      <th>condition</th>\n",
       "      <th>odometer</th>\n",
       "      <th>color</th>\n",
       "      <th>interior</th>\n",
       "      <th>seller</th>\n",
       "      <th>mmr</th>\n",
       "      <th>sellingprice</th>\n",
       "      <th>saledate</th>\n",
       "    </tr>\n",
       "  </thead>\n",
       "  <tbody>\n",
       "    <tr>\n",
       "      <th>0</th>\n",
       "      <td>2015</td>\n",
       "      <td>Kia</td>\n",
       "      <td>Sorento</td>\n",
       "      <td>LX</td>\n",
       "      <td>SUV</td>\n",
       "      <td>automatic</td>\n",
       "      <td>5xyktca69fg566472</td>\n",
       "      <td>ca</td>\n",
       "      <td>5.0</td>\n",
       "      <td>16639.0</td>\n",
       "      <td>white</td>\n",
       "      <td>black</td>\n",
       "      <td>kia motors america, inc</td>\n",
       "      <td>20500</td>\n",
       "      <td>21500</td>\n",
       "      <td>Tue Dec 16 2014 12:30:00 GMT-0800 (PST)</td>\n",
       "    </tr>\n",
       "    <tr>\n",
       "      <th>1</th>\n",
       "      <td>2015</td>\n",
       "      <td>Kia</td>\n",
       "      <td>Sorento</td>\n",
       "      <td>LX</td>\n",
       "      <td>SUV</td>\n",
       "      <td>automatic</td>\n",
       "      <td>5xyktca69fg561319</td>\n",
       "      <td>ca</td>\n",
       "      <td>5.0</td>\n",
       "      <td>9393.0</td>\n",
       "      <td>white</td>\n",
       "      <td>beige</td>\n",
       "      <td>kia motors america, inc</td>\n",
       "      <td>20800</td>\n",
       "      <td>21500</td>\n",
       "      <td>Tue Dec 16 2014 12:30:00 GMT-0800 (PST)</td>\n",
       "    </tr>\n",
       "    <tr>\n",
       "      <th>2</th>\n",
       "      <td>2014</td>\n",
       "      <td>BMW</td>\n",
       "      <td>3 Series</td>\n",
       "      <td>328i SULEV</td>\n",
       "      <td>Sedan</td>\n",
       "      <td>automatic</td>\n",
       "      <td>wba3c1c51ek116351</td>\n",
       "      <td>ca</td>\n",
       "      <td>4.5</td>\n",
       "      <td>1331.0</td>\n",
       "      <td>gray</td>\n",
       "      <td>black</td>\n",
       "      <td>financial services remarketing (lease)</td>\n",
       "      <td>31900</td>\n",
       "      <td>30000</td>\n",
       "      <td>Thu Jan 15 2015 04:30:00 GMT-0800 (PST)</td>\n",
       "    </tr>\n",
       "    <tr>\n",
       "      <th>3</th>\n",
       "      <td>2015</td>\n",
       "      <td>Volvo</td>\n",
       "      <td>S60</td>\n",
       "      <td>T5</td>\n",
       "      <td>Sedan</td>\n",
       "      <td>automatic</td>\n",
       "      <td>yv1612tb4f1310987</td>\n",
       "      <td>ca</td>\n",
       "      <td>4.1</td>\n",
       "      <td>14282.0</td>\n",
       "      <td>white</td>\n",
       "      <td>black</td>\n",
       "      <td>volvo na rep/world omni</td>\n",
       "      <td>27500</td>\n",
       "      <td>27750</td>\n",
       "      <td>Thu Jan 29 2015 04:30:00 GMT-0800 (PST)</td>\n",
       "    </tr>\n",
       "    <tr>\n",
       "      <th>4</th>\n",
       "      <td>2014</td>\n",
       "      <td>BMW</td>\n",
       "      <td>6 Series Gran Coupe</td>\n",
       "      <td>650i</td>\n",
       "      <td>Sedan</td>\n",
       "      <td>automatic</td>\n",
       "      <td>wba6b2c57ed129731</td>\n",
       "      <td>ca</td>\n",
       "      <td>4.3</td>\n",
       "      <td>2641.0</td>\n",
       "      <td>gray</td>\n",
       "      <td>black</td>\n",
       "      <td>financial services remarketing (lease)</td>\n",
       "      <td>66000</td>\n",
       "      <td>67000</td>\n",
       "      <td>Thu Dec 18 2014 12:30:00 GMT-0800 (PST)</td>\n",
       "    </tr>\n",
       "  </tbody>\n",
       "</table>\n",
       "</div>"
      ],
      "text/plain": [
       "   year   make                model        trim   body transmission  \\\n",
       "0  2015    Kia              Sorento          LX    SUV    automatic   \n",
       "1  2015    Kia              Sorento          LX    SUV    automatic   \n",
       "2  2014    BMW             3 Series  328i SULEV  Sedan    automatic   \n",
       "3  2015  Volvo                  S60          T5  Sedan    automatic   \n",
       "4  2014    BMW  6 Series Gran Coupe        650i  Sedan    automatic   \n",
       "\n",
       "                 vin state  condition  odometer  color interior  \\\n",
       "0  5xyktca69fg566472    ca        5.0   16639.0  white    black   \n",
       "1  5xyktca69fg561319    ca        5.0    9393.0  white    beige   \n",
       "2  wba3c1c51ek116351    ca        4.5    1331.0   gray    black   \n",
       "3  yv1612tb4f1310987    ca        4.1   14282.0  white    black   \n",
       "4  wba6b2c57ed129731    ca        4.3    2641.0   gray    black   \n",
       "\n",
       "                                   seller    mmr  sellingprice  \\\n",
       "0                 kia motors america, inc  20500         21500   \n",
       "1                 kia motors america, inc  20800         21500   \n",
       "2  financial services remarketing (lease)  31900         30000   \n",
       "3                 volvo na rep/world omni  27500         27750   \n",
       "4  financial services remarketing (lease)  66000         67000   \n",
       "\n",
       "                                  saledate  \n",
       "0  Tue Dec 16 2014 12:30:00 GMT-0800 (PST)  \n",
       "1  Tue Dec 16 2014 12:30:00 GMT-0800 (PST)  \n",
       "2  Thu Jan 15 2015 04:30:00 GMT-0800 (PST)  \n",
       "3  Thu Jan 29 2015 04:30:00 GMT-0800 (PST)  \n",
       "4  Thu Dec 18 2014 12:30:00 GMT-0800 (PST)  "
      ]
     },
     "execution_count": 2,
     "metadata": {},
     "output_type": "execute_result"
    }
   ],
   "source": [
    "import pandas as pd\n",
    "\n",
    "# Load, drop duplicates and view data\n",
    "car_prices = pd.read_csv(\"car_prices.csv\", on_bad_lines=\"skip\")\n",
    "car_prices = car_prices.drop_duplicates()\n",
    "car_prices.head()"
   ]
  },
  {
   "cell_type": "markdown",
   "id": "e67df281",
   "metadata": {},
   "source": [
    "## Task 3\n",
    "Conduct exploratory data analysis on the selected dataset using Python libraries (e.g.,  Pandas, Matplotlib, Seaborn). The analysis should include data cleaning, summary statistics, and visualizations to understand the data distribution and patterns.\n",
    "\n",
    "We start by <b>checking data types</b> to make sure they are appropriate: "
   ]
  },
  {
   "cell_type": "code",
   "execution_count": 3,
   "id": "db48bba1",
   "metadata": {},
   "outputs": [
    {
     "name": "stdout",
     "output_type": "stream",
     "text": [
      "<class 'pandas.core.frame.DataFrame'>\n",
      "RangeIndex: 558811 entries, 0 to 558810\n",
      "Data columns (total 16 columns):\n",
      " #   Column        Non-Null Count   Dtype  \n",
      "---  ------        --------------   -----  \n",
      " 0   year          558811 non-null  int64  \n",
      " 1   make          548510 non-null  object \n",
      " 2   model         548412 non-null  object \n",
      " 3   trim          548160 non-null  object \n",
      " 4   body          545616 non-null  object \n",
      " 5   transmission  493458 non-null  object \n",
      " 6   vin           558811 non-null  object \n",
      " 7   state         558811 non-null  object \n",
      " 8   condition     547017 non-null  float64\n",
      " 9   odometer      558717 non-null  float64\n",
      " 10  color         558062 non-null  object \n",
      " 11  interior      558062 non-null  object \n",
      " 12  seller        558811 non-null  object \n",
      " 13  mmr           558811 non-null  int64  \n",
      " 14  sellingprice  558811 non-null  int64  \n",
      " 15  saledate      558811 non-null  object \n",
      "dtypes: float64(2), int64(3), object(11)\n",
      "memory usage: 68.2+ MB\n"
     ]
    }
   ],
   "source": [
    "car_prices.info()"
   ]
  },
  {
   "cell_type": "markdown",
   "id": "7b1f3060",
   "metadata": {},
   "source": [
    "All columns appear to have appropriate data types already, so nothing needs to be done here. They all have good names that are concise, descriptive and usable as well. "
   ]
  },
  {
   "cell_type": "markdown",
   "id": "0d84ceb1",
   "metadata": {},
   "source": [
    "Next, we will perform a full cleaning of the appropriate columns to prepare the dataset for analysis. \n",
    "\n",
    "### The `year` column"
   ]
  },
  {
   "cell_type": "code",
   "execution_count": 4,
   "id": "cdfe2048",
   "metadata": {},
   "outputs": [
    {
     "name": "stdout",
     "output_type": "stream",
     "text": [
      "Years: [1982, 1983, 1984, 1985, 1986, 1987, 1988, 1989, 1990, 1991, 1992, 1993, 1994, 1995, 1996, 1997, 1998, 1999, 2000, 2001, 2002, 2003, 2004, 2005, 2006, 2007, 2008, 2009, 2010, 2011, 2012, 2013, 2014, 2015]\n"
     ]
    }
   ],
   "source": [
    "# Check years present in data\n",
    "unique_years = car_prices[\"year\"].unique()\n",
    "unique_years = pd.Series(unique_years).sort_values().tolist()\n",
    "print(\"Years:\", unique_years)"
   ]
  },
  {
   "cell_type": "markdown",
   "id": "0518eeeb",
   "metadata": {},
   "source": [
    "The years present in the dataset look sensible. Let's take a look at the distribution of year of manufacture in the data. "
   ]
  },
  {
   "cell_type": "code",
   "execution_count": 5,
   "id": "0ac477ae",
   "metadata": {},
   "outputs": [
    {
     "data": {
      "image/png": "[encoded data removed]",
      "text/plain": [
       "<Figure size 640x480 with 1 Axes>"
      ]
     },
     "metadata": {},
     "output_type": "display_data"
    }
   ],
   "source": [
    "import seaborn as sns\n",
    "import matplotlib.pyplot as plt\n",
    "\n",
    "# View histogram of 'year'\n",
    "sns.histplot(car_prices[\"year\"])\n",
    "plt.title(\"Distribution of Year of Manufacture\")\n",
    "plt.show()"
   ]
  },
  {
   "cell_type": "markdown",
   "id": "e996ca94",
   "metadata": {},
   "source": [
    "We see that a majority of the cars in the data were manufactured between 2011 and 2014. "
   ]
  },
  {
   "cell_type": "markdown",
   "id": "0b4d16cd",
   "metadata": {},
   "source": [
    "### The `make` column\n",
    "\n",
    "Let's take a look at the makes present in the dataset: "
   ]
  },
  {
   "cell_type": "code",
   "execution_count": 6,
   "id": "103828ba",
   "metadata": {},
   "outputs": [
    {
     "name": "stdout",
     "output_type": "stream",
     "text": [
      "['Acura', 'Aston Martin', 'Audi', 'BMW', 'Bentley', 'Buick', 'Cadillac', 'Chevrolet', 'Chrysler', 'Daewoo', 'Dodge', 'FIAT', 'Ferrari', 'Fisker', 'Ford', 'GMC', 'Geo', 'HUMMER', 'Honda', 'Hyundai', 'Infiniti', 'Isuzu', 'Jaguar', 'Jeep', 'Kia', 'Lamborghini', 'Land Rover', 'Lexus', 'Lincoln', 'Lotus', 'MINI', 'Maserati', 'Mazda', 'Mercedes-Benz', 'Mercury', 'Mitsubishi', 'Nissan', 'Oldsmobile', 'Plymouth', 'Pontiac', 'Porsche', 'Ram', 'Rolls-Royce', 'Saab', 'Saturn', 'Scion', 'Subaru', 'Suzuki', 'Tesla', 'Toyota', 'Volkswagen', 'Volvo', 'acura', 'airstream', 'audi', 'bmw', 'buick', 'cadillac', 'chev truck', 'chevrolet', 'chrysler', 'dodge', 'dodge tk', 'dot', 'ford', 'ford tk', 'ford truck', 'gmc', 'gmc truck', 'honda', 'hyundai', 'hyundai tk', 'jeep', 'kia', 'land rover', 'landrover', 'lexus', 'lincoln', 'maserati', 'mazda', 'mazda tk', 'mercedes', 'mercedes-b', 'mercury', 'mitsubishi', 'nissan', 'oldsmobile', 'plymouth', 'pontiac', 'porsche', 'smart', 'subaru', 'suzuki', 'toyota', 'volkswagen', 'vw', nan]\n"
     ]
    }
   ],
   "source": [
    "# Check makes\n",
    "def display_unique(col): \n",
    "    col = col.unique()\n",
    "    col = pd.Series(col)\n",
    "    col = col.sort_values(ascending=True).tolist()\n",
    "    print(col)\n",
    "\n",
    "display_unique(car_prices[\"make\"])"
   ]
  },
  {
   "cell_type": "markdown",
   "id": "799a086b",
   "metadata": {},
   "source": [
    "We can see lots of duplicates present with makes like Acura, Audi, and BMW. There are also some values like 'dodge tk' and 'chev truck'. We can fix most of these by capitalizing the first letter of the make. "
   ]
  },
  {
   "cell_type": "code",
   "execution_count": 7,
   "id": "80accb64",
   "metadata": {},
   "outputs": [
    {
     "name": "stdout",
     "output_type": "stream",
     "text": [
      "['Acura', 'Airstream', 'Aston Martin', 'Audi', 'BMW', 'Bentley', 'Bmw', 'Buick', 'Cadillac', 'Chev Truck', 'Chevrolet', 'Chrysler', 'Daewoo', 'Dodge', 'Dodge Tk', 'Dot', 'FIAT', 'Ferrari', 'Fisker', 'Ford', 'Ford Tk', 'Ford Truck', 'GMC', 'Geo', 'Gmc', 'Gmc Truck', 'HUMMER', 'Honda', 'Hyundai', 'Hyundai Tk', 'Infiniti', 'Isuzu', 'Jaguar', 'Jeep', 'Kia', 'Lamborghini', 'Land Rover', 'Landrover', 'Lexus', 'Lincoln', 'Lotus', 'MINI', 'Maserati', 'Mazda', 'Mazda Tk', 'Mercedes', 'Mercedes-Benz', 'Mercedes-b', 'Mercury', 'Mitsubishi', 'Nissan', 'Oldsmobile', 'Plymouth', 'Pontiac', 'Porsche', 'Ram', 'Rolls-Royce', 'Saab', 'Saturn', 'Scion', 'Smart', 'Subaru', 'Suzuki', 'Tesla', 'Toyota', 'Volkswagen', 'Volvo', 'Vw', nan]\n"
     ]
    }
   ],
   "source": [
    "# Function to capitalize the first letter of each make\n",
    "def capitalize_words(text):\n",
    "    if (pd.notna(text)) and (text.islower()):\n",
    "        return ' '.join(word.capitalize() for word in str(text).split())\n",
    "    else:\n",
    "        return text\n",
    "\n",
    "# Check makes\n",
    "car_prices[\"make\"] = car_prices[\"make\"].apply(capitalize_words)\n",
    "display_unique(car_prices[\"make\"])"
   ]
  },
  {
   "cell_type": "markdown",
   "id": "101171d7",
   "metadata": {},
   "source": [
    "Now, we can fix the rest of the typos by replacing them with the correct values. "
   ]
  },
  {
   "cell_type": "code",
   "execution_count": 8,
   "id": "f35657e0",
   "metadata": {
    "scrolled": true
   },
   "outputs": [
    {
     "name": "stdout",
     "output_type": "stream",
     "text": [
      "['Acura', 'Airstream', 'Aston Martin', 'Audi', 'BMW', 'Bentley', 'Buick', 'Cadillac', 'Chevrolet', 'Chrysler', 'Daewoo', 'Dodge', 'Dot', 'FIAT', 'Ferrari', 'Fisker', 'Ford', 'GMC', 'Geo', 'HUMMER', 'Honda', 'Hyundai', 'Infiniti', 'Isuzu', 'Jaguar', 'Jeep', 'Kia', 'Lamborghini', 'Land Rover', 'Lexus', 'Lincoln', 'Lotus', 'MINI', 'Maserati', 'Mazda', 'Mercedes-Benz', 'Mercury', 'Mitsubishi', 'Nissan', 'Oldsmobile', 'Plymouth', 'Pontiac', 'Porsche', 'Ram', 'Rolls-Royce', 'Saab', 'Saturn', 'Scion', 'Smart', 'Subaru', 'Suzuki', 'Tesla', 'Toyota', 'Volkswagen', 'Volvo', nan]\n"
     ]
    }
   ],
   "source": [
    "import numpy as np\n",
    "\n",
    "# Replace typos with correct values\n",
    "car_prices[\"make\"] = np.where(car_prices[\"make\"] == \"Bmw\", \"BMW\", car_prices[\"make\"])\n",
    "car_prices[\"make\"] = np.where(car_prices[\"make\"] == \"Chev Truck\", \"Chevrolet\", car_prices[\"make\"])\n",
    "car_prices[\"make\"] = np.where(car_prices[\"make\"] == \"Dodge Tk\", \"Dodge\", car_prices[\"make\"])\n",
    "car_prices[\"make\"] = np.where(car_prices[\"make\"] == \"Ford Tk\", \"Ford\", car_prices[\"make\"])\n",
    "car_prices[\"make\"] = np.where(car_prices[\"make\"] == \"Ford Truck\", \"Ford\", car_prices[\"make\"])\n",
    "car_prices[\"make\"] = np.where(car_prices[\"make\"] == \"Gmc\", \"GMC\", car_prices[\"make\"])\n",
    "car_prices[\"make\"] = np.where(car_prices[\"make\"] == \"Gmc Truck\", \"GMC\", car_prices[\"make\"])\n",
    "car_prices[\"make\"] = np.where(car_prices[\"make\"] == \"Hyundai Tk\", \"Hyundai\", car_prices[\"make\"])\n",
    "car_prices[\"make\"] = np.where(car_prices[\"make\"] == \"Landrover\", \"Land Rover\", car_prices[\"make\"])\n",
    "car_prices[\"make\"] = np.where(car_prices[\"make\"] == \"Mazda Tk\", \"Mazda\", car_prices[\"make\"])\n",
    "car_prices[\"make\"] = np.where(car_prices[\"make\"] == \"Mercedes\", \"Mercedes-Benz\", car_prices[\"make\"])\n",
    "car_prices[\"make\"] = np.where(car_prices[\"make\"] == \"Mercedes-b\", \"Mercedes-Benz\", car_prices[\"make\"])\n",
    "car_prices[\"make\"] = np.where(car_prices[\"make\"] == \"Mercedes-benz\", \"Mercedes-Benz\", car_prices[\"make\"])\n",
    "car_prices[\"make\"] = np.where(car_prices[\"make\"] == \"Rolls-royce\", \"Rolls-Royce\", car_prices[\"make\"])\n",
    "car_prices[\"make\"] = np.where(car_prices[\"make\"] == \"Vw\", \"Volkswagen\", car_prices[\"make\"])\n",
    "\n",
    "display_unique(car_prices[\"make\"])"
   ]
  },
  {
   "cell_type": "code",
   "execution_count": 9,
   "id": "3410a833",
   "metadata": {},
   "outputs": [
    {
     "data": {
      "text/html": [
       "<div>\n",
       "<style scoped>\n",
       "    .dataframe tbody tr th:only-of-type {\n",
       "        vertical-align: middle;\n",
       "    }\n",
       "\n",
       "    .dataframe tbody tr th {\n",
       "        vertical-align: top;\n",
       "    }\n",
       "\n",
       "    .dataframe thead th {\n",
       "        text-align: right;\n",
       "    }\n",
       "</style>\n",
       "<table border=\"1\" class=\"dataframe\">\n",
       "  <thead>\n",
       "    <tr style=\"text-align: right;\">\n",
       "      <th></th>\n",
       "      <th>0</th>\n",
       "      <th>1</th>\n",
       "      <th>2</th>\n",
       "      <th>3</th>\n",
       "      <th>4</th>\n",
       "      <th>5</th>\n",
       "      <th>6</th>\n",
       "      <th>7</th>\n",
       "      <th>8</th>\n",
       "      <th>9</th>\n",
       "      <th>...</th>\n",
       "      <th>45</th>\n",
       "      <th>46</th>\n",
       "      <th>47</th>\n",
       "      <th>48</th>\n",
       "      <th>49</th>\n",
       "      <th>50</th>\n",
       "      <th>51</th>\n",
       "      <th>52</th>\n",
       "      <th>53</th>\n",
       "      <th>54</th>\n",
       "    </tr>\n",
       "  </thead>\n",
       "  <tbody>\n",
       "    <tr>\n",
       "      <th>make</th>\n",
       "      <td>Ford</td>\n",
       "      <td>Chevrolet</td>\n",
       "      <td>Nissan</td>\n",
       "      <td>Toyota</td>\n",
       "      <td>Dodge</td>\n",
       "      <td>Honda</td>\n",
       "      <td>Hyundai</td>\n",
       "      <td>BMW</td>\n",
       "      <td>Kia</td>\n",
       "      <td>Chrysler</td>\n",
       "      <td>...</td>\n",
       "      <td>Tesla</td>\n",
       "      <td>Ferrari</td>\n",
       "      <td>Geo</td>\n",
       "      <td>Rolls-Royce</td>\n",
       "      <td>Fisker</td>\n",
       "      <td>Lamborghini</td>\n",
       "      <td>Daewoo</td>\n",
       "      <td>Airstream</td>\n",
       "      <td>Dot</td>\n",
       "      <td>Lotus</td>\n",
       "    </tr>\n",
       "    <tr>\n",
       "      <th>count</th>\n",
       "      <td>94001</td>\n",
       "      <td>60588</td>\n",
       "      <td>54017</td>\n",
       "      <td>39966</td>\n",
       "      <td>30956</td>\n",
       "      <td>27351</td>\n",
       "      <td>21837</td>\n",
       "      <td>20793</td>\n",
       "      <td>18084</td>\n",
       "      <td>17485</td>\n",
       "      <td>...</td>\n",
       "      <td>23</td>\n",
       "      <td>19</td>\n",
       "      <td>19</td>\n",
       "      <td>17</td>\n",
       "      <td>9</td>\n",
       "      <td>4</td>\n",
       "      <td>3</td>\n",
       "      <td>1</td>\n",
       "      <td>1</td>\n",
       "      <td>1</td>\n",
       "    </tr>\n",
       "  </tbody>\n",
       "</table>\n",
       "<p>2 rows × 55 columns</p>\n",
       "</div>"
      ],
      "text/plain": [
       "          0          1       2       3      4      5        6      7      8   \\\n",
       "make    Ford  Chevrolet  Nissan  Toyota  Dodge  Honda  Hyundai    BMW    Kia   \n",
       "count  94001      60588   54017   39966  30956  27351    21837  20793  18084   \n",
       "\n",
       "             9   ...     45       46   47           48      49           50  \\\n",
       "make   Chrysler  ...  Tesla  Ferrari  Geo  Rolls-Royce  Fisker  Lamborghini   \n",
       "count     17485  ...     23       19   19           17       9            4   \n",
       "\n",
       "           51         52   53     54  \n",
       "make   Daewoo  Airstream  Dot  Lotus  \n",
       "count       3          1    1      1  \n",
       "\n",
       "[2 rows x 55 columns]"
      ]
     },
     "execution_count": 9,
     "metadata": {},
     "output_type": "execute_result"
    }
   ],
   "source": [
    "# Show make popularities\n",
    "make_popularities = car_prices[\"make\"].value_counts().to_frame().reset_index()\n",
    "make_popularities.transpose()"
   ]
  },
  {
   "cell_type": "markdown",
   "id": "471907ac",
   "metadata": {},
   "source": [
    "Now, our make names are correct and grammatically polished. \n",
    "\n",
    "We still see that `nan` is a value present in the list of unique makes, so this indicates there are missing values that need to be dealt with. We can replace each missing value with a random selection from the top 10 most common makes. "
   ]
  },
  {
   "cell_type": "code",
   "execution_count": 10,
   "id": "3888a02f",
   "metadata": {
    "scrolled": false
   },
   "outputs": [
    {
     "name": "stdout",
     "output_type": "stream",
     "text": [
      "10301 missing values present in `make`.\n",
      "Filled missing values with a random value from ['Ford', 'Chevrolet', 'Nissan', 'Toyota', 'Dodge', 'Honda', 'Hyundai', 'BMW', 'Kia', 'Chrysler'] .\n",
      "0 missing values present in `make`.\n"
     ]
    }
   ],
   "source": [
    "import random\n",
    "\n",
    "# Replace missing values\n",
    "print(car_prices[\"make\"].isna().sum(), \"missing values present in `make`.\")\n",
    "most_frequent_makes = [\"Ford\", \"Chevrolet\", \"Nissan\", \"Toyota\", \"Dodge\", \"Honda\", \"Hyundai\", \"BMW\", \"Kia\", \"Chrysler\"]\n",
    "car_prices[\"make\"] = np.where(car_prices[\"make\"].isna(), random.choice(most_frequent_makes), car_prices[\"make\"])\n",
    "print(\"Filled missing values with a random value from\", most_frequent_makes, \".\")\n",
    "print(car_prices[\"make\"].isna().sum(), \"missing values present in `make`.\")"
   ]
  },
  {
   "cell_type": "markdown",
   "id": "8a1e0566",
   "metadata": {},
   "source": [
    "The `make` column is now clean. Let's take a look at the relative popularities of the most common makes. "
   ]
  },
  {
   "cell_type": "code",
   "execution_count": 11,
   "id": "b16264ae",
   "metadata": {},
   "outputs": [
    {
     "data": {
      "image/png": "[encoded data removed]",
      "text/plain": [
       "<Figure size 640x480 with 1 Axes>"
      ]
     },
     "metadata": {},
     "output_type": "display_data"
    }
   ],
   "source": [
    "# View bar graph of most popular makes\n",
    "top_10_makes = make_popularities.head(10)\n",
    "colors = [\"blue\", \"#e0ba7b\", \"black\", \"silver\", \"#121a3b\", \"red\", \"gray\", \"blue\", \"silver\", \"gray\"]\n",
    "bars = plt.bar(top_10_makes[\"make\"], top_10_makes[\"count\"], color=colors)\n",
    "plt.xticks(rotation=45)\n",
    "plt.title(\"Number of Used Cars by Make\")\n",
    "plt.xlabel(\"Make\")\n",
    "plt.ylabel(\"Count\")\n",
    "plt.show()"
   ]
  },
  {
   "cell_type": "markdown",
   "id": "16813323",
   "metadata": {},
   "source": [
    "We see that Ford towers over every other brand in the number of used cars available. "
   ]
  },
  {
   "cell_type": "markdown",
   "id": "556efc00",
   "metadata": {},
   "source": [
    "### The `model` column"
   ]
  },
  {
   "cell_type": "code",
   "execution_count": 12,
   "id": "c89b86e0",
   "metadata": {},
   "outputs": [
    {
     "name": "stdout",
     "output_type": "stream",
     "text": [
      "There are 974 unique models in the data.\n"
     ]
    }
   ],
   "source": [
    "# Show number of unique models\n",
    "print(\"There are\", len(car_prices[\"model\"].unique()), \"unique models in the data.\")"
   ]
  },
  {
   "cell_type": "markdown",
   "id": "21626f6c",
   "metadata": {},
   "source": [
    "There are so many unique models in the data that it would take an unreasonable amount of time to make sure they are all perfect. Thus, we will simply replace missing values here. "
   ]
  },
  {
   "cell_type": "code",
   "execution_count": 13,
   "id": "bfa22f3c",
   "metadata": {
    "scrolled": false
   },
   "outputs": [
    {
     "name": "stdout",
     "output_type": "stream",
     "text": [
      "10399 missing values present in `model`.\n"
     ]
    }
   ],
   "source": [
    "# Show missing count\n",
    "print(car_prices[\"model\"].isna().sum(), \"missing values present in `model`.\")"
   ]
  },
  {
   "cell_type": "code",
   "execution_count": 14,
   "id": "4448f0df",
   "metadata": {},
   "outputs": [
    {
     "data": {
      "text/html": [
       "<div>\n",
       "<style scoped>\n",
       "    .dataframe tbody tr th:only-of-type {\n",
       "        vertical-align: middle;\n",
       "    }\n",
       "\n",
       "    .dataframe tbody tr th {\n",
       "        vertical-align: top;\n",
       "    }\n",
       "\n",
       "    .dataframe thead th {\n",
       "        text-align: right;\n",
       "    }\n",
       "</style>\n",
       "<table border=\"1\" class=\"dataframe\">\n",
       "  <thead>\n",
       "    <tr style=\"text-align: right;\">\n",
       "      <th></th>\n",
       "      <th>0</th>\n",
       "      <th>1</th>\n",
       "      <th>2</th>\n",
       "      <th>3</th>\n",
       "      <th>4</th>\n",
       "      <th>5</th>\n",
       "      <th>6</th>\n",
       "      <th>7</th>\n",
       "      <th>8</th>\n",
       "      <th>9</th>\n",
       "      <th>...</th>\n",
       "      <th>963</th>\n",
       "      <th>964</th>\n",
       "      <th>965</th>\n",
       "      <th>966</th>\n",
       "      <th>967</th>\n",
       "      <th>968</th>\n",
       "      <th>969</th>\n",
       "      <th>970</th>\n",
       "      <th>971</th>\n",
       "      <th>972</th>\n",
       "    </tr>\n",
       "  </thead>\n",
       "  <tbody>\n",
       "    <tr>\n",
       "      <th>model</th>\n",
       "      <td>Altima</td>\n",
       "      <td>F-150</td>\n",
       "      <td>Fusion</td>\n",
       "      <td>Camry</td>\n",
       "      <td>Escape</td>\n",
       "      <td>Focus</td>\n",
       "      <td>Accord</td>\n",
       "      <td>3 Series</td>\n",
       "      <td>Grand Caravan</td>\n",
       "      <td>Impala</td>\n",
       "      <td>...</td>\n",
       "      <td>328i</td>\n",
       "      <td>CTS-V Wagon</td>\n",
       "      <td>carrera</td>\n",
       "      <td>comm</td>\n",
       "      <td>versa</td>\n",
       "      <td>rrs</td>\n",
       "      <td>golf</td>\n",
       "      <td>g500</td>\n",
       "      <td>tahoe</td>\n",
       "      <td>458 Italia</td>\n",
       "    </tr>\n",
       "    <tr>\n",
       "      <th>count</th>\n",
       "      <td>19349</td>\n",
       "      <td>14479</td>\n",
       "      <td>12946</td>\n",
       "      <td>12545</td>\n",
       "      <td>11861</td>\n",
       "      <td>10394</td>\n",
       "      <td>9127</td>\n",
       "      <td>8204</td>\n",
       "      <td>7941</td>\n",
       "      <td>7923</td>\n",
       "      <td>...</td>\n",
       "      <td>1</td>\n",
       "      <td>1</td>\n",
       "      <td>1</td>\n",
       "      <td>1</td>\n",
       "      <td>1</td>\n",
       "      <td>1</td>\n",
       "      <td>1</td>\n",
       "      <td>1</td>\n",
       "      <td>1</td>\n",
       "      <td>1</td>\n",
       "    </tr>\n",
       "  </tbody>\n",
       "</table>\n",
       "<p>2 rows × 973 columns</p>\n",
       "</div>"
      ],
      "text/plain": [
       "          0      1       2      3       4      5       6         7    \\\n",
       "model  Altima  F-150  Fusion  Camry  Escape  Focus  Accord  3 Series   \n",
       "count   19349  14479   12946  12545   11861  10394    9127      8204   \n",
       "\n",
       "                 8       9    ...   963          964      965   966    967  \\\n",
       "model  Grand Caravan  Impala  ...  328i  CTS-V Wagon  carrera  comm  versa   \n",
       "count           7941    7923  ...     1            1        1     1      1   \n",
       "\n",
       "       968   969   970    971         972  \n",
       "model  rrs  golf  g500  tahoe  458 Italia  \n",
       "count    1     1     1      1           1  \n",
       "\n",
       "[2 rows x 973 columns]"
      ]
     },
     "execution_count": 14,
     "metadata": {},
     "output_type": "execute_result"
    }
   ],
   "source": [
    "# Show most popular models\n",
    "most_popular_models = car_prices[\"model\"].value_counts().to_frame().reset_index()\n",
    "most_popular_models.transpose()"
   ]
  },
  {
   "cell_type": "markdown",
   "id": "b8d66cce",
   "metadata": {},
   "source": [
    "It seems that the most popular models are all somewhat close in count, so we will replace missing values with a randomly-selected model from the top 10 most popular models. "
   ]
  },
  {
   "cell_type": "code",
   "execution_count": 15,
   "id": "9078fba3",
   "metadata": {},
   "outputs": [
    {
     "name": "stdout",
     "output_type": "stream",
     "text": [
      "Filled missing values with a random value from ['Altima', 'F-150', 'Fusion', 'Camry', 'Escape', 'Focus', 'Accord', '3 Series', 'Grand Caravan', 'Impala'] .\n",
      "0 missing values present in `model`.\n"
     ]
    }
   ],
   "source": [
    "# Fill missing values \n",
    "most_popular_models = [\"Altima\", \"F-150\", \"Fusion\", \"Camry\", \"Escape\", \"Focus\", \"Accord\", \"3 Series\", \"Grand Caravan\", \"Impala\"]\n",
    "car_prices[\"model\"] = np.where(car_prices[\"model\"].isna(), random.choice(most_popular_models), car_prices[\"model\"])\n",
    "print(\"Filled missing values with a random value from\", most_popular_models, \".\")\n",
    "print(car_prices[\"model\"].isna().sum(), \"missing values present in `model`.\")"
   ]
  },
  {
   "cell_type": "markdown",
   "id": "0003d602",
   "metadata": {},
   "source": [
    "### The `trim` column"
   ]
  },
  {
   "cell_type": "code",
   "execution_count": 16,
   "id": "ea854a07",
   "metadata": {
    "scrolled": true
   },
   "outputs": [
    {
     "name": "stdout",
     "output_type": "stream",
     "text": [
      "There are 1976 unique trims in the data.\n"
     ]
    }
   ],
   "source": [
    "# Get count of unique trims\n",
    "print(\"There are\", len(car_prices[\"trim\"].unique()), \"unique trims in the data.\")"
   ]
  },
  {
   "cell_type": "markdown",
   "id": "41ce43c7",
   "metadata": {},
   "source": [
    "As with `model`, there are far too many unique trims for correcting each value to be practical. Thus, we will again focus on replacing missing values only. "
   ]
  },
  {
   "cell_type": "code",
   "execution_count": 17,
   "id": "ede24e34",
   "metadata": {},
   "outputs": [
    {
     "name": "stdout",
     "output_type": "stream",
     "text": [
      "10651 missing values present in `trim`.\n"
     ]
    }
   ],
   "source": [
    "# Get count of missing values \n",
    "print(car_prices[\"trim\"].isna().sum(), \"missing values present in `trim`.\")"
   ]
  },
  {
   "cell_type": "code",
   "execution_count": 18,
   "id": "e3c80f8c",
   "metadata": {},
   "outputs": [
    {
     "data": {
      "text/html": [
       "<div>\n",
       "<style scoped>\n",
       "    .dataframe tbody tr th:only-of-type {\n",
       "        vertical-align: middle;\n",
       "    }\n",
       "\n",
       "    .dataframe tbody tr th {\n",
       "        vertical-align: top;\n",
       "    }\n",
       "\n",
       "    .dataframe thead th {\n",
       "        text-align: right;\n",
       "    }\n",
       "</style>\n",
       "<table border=\"1\" class=\"dataframe\">\n",
       "  <thead>\n",
       "    <tr style=\"text-align: right;\">\n",
       "      <th>trim</th>\n",
       "      <th>Base</th>\n",
       "      <th>SE</th>\n",
       "      <th>LX</th>\n",
       "      <th>Limited</th>\n",
       "      <th>LT</th>\n",
       "      <th>XLT</th>\n",
       "      <th>LS</th>\n",
       "      <th>LE</th>\n",
       "      <th>GLS</th>\n",
       "      <th>S</th>\n",
       "      <th>...</th>\n",
       "      <th>5c 2.5l</th>\n",
       "      <th>Splash</th>\n",
       "      <th>cruiser touring</th>\n",
       "      <th>SX Premium</th>\n",
       "      <th>series m</th>\n",
       "      <th>xls</th>\n",
       "      <th>4x2 reg silverado</th>\n",
       "      <th>awd v8 limited</th>\n",
       "      <th>4x2 v6 limited</th>\n",
       "      <th>Power Wagon</th>\n",
       "    </tr>\n",
       "  </thead>\n",
       "  <tbody>\n",
       "    <tr>\n",
       "      <th>count</th>\n",
       "      <td>55817</td>\n",
       "      <td>43648</td>\n",
       "      <td>20757</td>\n",
       "      <td>18356</td>\n",
       "      <td>16915</td>\n",
       "      <td>16741</td>\n",
       "      <td>13427</td>\n",
       "      <td>12903</td>\n",
       "      <td>12331</td>\n",
       "      <td>11883</td>\n",
       "      <td>...</td>\n",
       "      <td>1</td>\n",
       "      <td>1</td>\n",
       "      <td>1</td>\n",
       "      <td>1</td>\n",
       "      <td>1</td>\n",
       "      <td>1</td>\n",
       "      <td>1</td>\n",
       "      <td>1</td>\n",
       "      <td>1</td>\n",
       "      <td>1</td>\n",
       "    </tr>\n",
       "  </tbody>\n",
       "</table>\n",
       "<p>1 rows × 1975 columns</p>\n",
       "</div>"
      ],
      "text/plain": [
       "trim    Base     SE     LX  Limited     LT    XLT     LS     LE    GLS      S  \\\n",
       "count  55817  43648  20757    18356  16915  16741  13427  12903  12331  11883   \n",
       "\n",
       "trim   ...  5c 2.5l  Splash  cruiser touring  SX Premium  series m  xls  \\\n",
       "count  ...        1       1                1           1         1    1   \n",
       "\n",
       "trim   4x2 reg silverado  awd v8 limited  4x2 v6 limited  Power Wagon  \n",
       "count                  1               1               1            1  \n",
       "\n",
       "[1 rows x 1975 columns]"
      ]
     },
     "execution_count": 18,
     "metadata": {},
     "output_type": "execute_result"
    }
   ],
   "source": [
    "# Get most popular trims\n",
    "car_prices[\"trim\"].value_counts().to_frame().transpose()"
   ]
  },
  {
   "cell_type": "markdown",
   "id": "83b48c4d",
   "metadata": {},
   "source": [
    "We will again fill missing `trim` values with one of the top 10 most common trims. "
   ]
  },
  {
   "cell_type": "code",
   "execution_count": 19,
   "id": "510c7b97",
   "metadata": {},
   "outputs": [
    {
     "name": "stdout",
     "output_type": "stream",
     "text": [
      "Filled missing values.\n",
      "0 missing values present in `trim`.\n"
     ]
    }
   ],
   "source": [
    "# Fill missing values\n",
    "most_popular_trims = [\"Base\", \"SE\", \"LX\", \"Limited\", \"LT\", \"XLT\", \"LS\", \"LE\", \"GLS\", \"S\"]\n",
    "car_prices[\"trim\"] = np.where(car_prices[\"trim\"].isna(), random.choice(most_popular_trims), car_prices[\"trim\"])\n",
    "print(\"Filled missing values.\")\n",
    "print(car_prices[\"trim\"].isna().sum(), \"missing values present in `trim`.\")"
   ]
  },
  {
   "cell_type": "markdown",
   "id": "2d208038",
   "metadata": {},
   "source": [
    "### The `body` column"
   ]
  },
  {
   "cell_type": "code",
   "execution_count": 20,
   "id": "b2eb1e45",
   "metadata": {},
   "outputs": [
    {
     "data": {
      "text/html": [
       "<div>\n",
       "<style scoped>\n",
       "    .dataframe tbody tr th:only-of-type {\n",
       "        vertical-align: middle;\n",
       "    }\n",
       "\n",
       "    .dataframe tbody tr th {\n",
       "        vertical-align: top;\n",
       "    }\n",
       "\n",
       "    .dataframe thead th {\n",
       "        text-align: right;\n",
       "    }\n",
       "</style>\n",
       "<table border=\"1\" class=\"dataframe\">\n",
       "  <thead>\n",
       "    <tr style=\"text-align: right;\">\n",
       "      <th>body</th>\n",
       "      <th>Sedan</th>\n",
       "      <th>SUV</th>\n",
       "      <th>sedan</th>\n",
       "      <th>suv</th>\n",
       "      <th>Hatchback</th>\n",
       "      <th>Minivan</th>\n",
       "      <th>Coupe</th>\n",
       "      <th>Wagon</th>\n",
       "      <th>Crew Cab</th>\n",
       "      <th>Convertible</th>\n",
       "      <th>...</th>\n",
       "      <th>Cab Plus</th>\n",
       "      <th>q60 coupe</th>\n",
       "      <th>xtracab</th>\n",
       "      <th>g37 convertible</th>\n",
       "      <th>q60 convertible</th>\n",
       "      <th>g37 coupe</th>\n",
       "      <th>cab plus 4</th>\n",
       "      <th>CTS-V Wagon</th>\n",
       "      <th>Ram Van</th>\n",
       "      <th>cts wagon</th>\n",
       "    </tr>\n",
       "  </thead>\n",
       "  <tbody>\n",
       "    <tr>\n",
       "      <th>count</th>\n",
       "      <td>199437</td>\n",
       "      <td>119292</td>\n",
       "      <td>41906</td>\n",
       "      <td>24552</td>\n",
       "      <td>21380</td>\n",
       "      <td>21363</td>\n",
       "      <td>14602</td>\n",
       "      <td>13630</td>\n",
       "      <td>13280</td>\n",
       "      <td>8652</td>\n",
       "      <td>...</td>\n",
       "      <td>4</td>\n",
       "      <td>4</td>\n",
       "      <td>4</td>\n",
       "      <td>4</td>\n",
       "      <td>4</td>\n",
       "      <td>1</td>\n",
       "      <td>1</td>\n",
       "      <td>1</td>\n",
       "      <td>1</td>\n",
       "      <td>1</td>\n",
       "    </tr>\n",
       "  </tbody>\n",
       "</table>\n",
       "<p>1 rows × 86 columns</p>\n",
       "</div>"
      ],
      "text/plain": [
       "body    Sedan     SUV  sedan    suv  Hatchback  Minivan  Coupe  Wagon  \\\n",
       "count  199437  119292  41906  24552      21380    21363  14602  13630   \n",
       "\n",
       "body   Crew Cab  Convertible  ...  Cab Plus  q60 coupe  xtracab  \\\n",
       "count     13280         8652  ...         4          4        4   \n",
       "\n",
       "body   g37 convertible  q60 convertible  g37 coupe  cab plus 4  CTS-V Wagon  \\\n",
       "count                4                4          1           1            1   \n",
       "\n",
       "body   Ram Van  cts wagon  \n",
       "count        1          1  \n",
       "\n",
       "[1 rows x 86 columns]"
      ]
     },
     "execution_count": 20,
     "metadata": {},
     "output_type": "execute_result"
    }
   ],
   "source": [
    "# Show most popular body types\n",
    "car_prices[\"body\"].value_counts().to_frame().transpose()"
   ]
  },
  {
   "cell_type": "code",
   "execution_count": 21,
   "id": "8d0b8063",
   "metadata": {},
   "outputs": [
    {
     "name": "stdout",
     "output_type": "stream",
     "text": [
      "['Access Cab', 'Beetle Convertible', 'CTS Coupe', 'CTS Wagon', 'CTS-V Coupe', 'CTS-V Wagon', 'Cab Plus', 'Cab Plus 4', 'Club Cab', 'Convertible', 'Coupe', 'Crew Cab', 'CrewMax Cab', 'Double Cab', 'E-Series Van', 'Elantra Coupe', 'Extended Cab', 'G Convertible', 'G Coupe', 'G Sedan', 'G37 Convertible', 'G37 Coupe', 'Genesis Coupe', 'GranTurismo Convertible', 'Hatchback', 'King Cab', 'Koup', 'Mega Cab', 'Minivan', 'Promaster Cargo Van', 'Q60 Convertible', 'Q60 Coupe', 'Quad Cab', 'Ram Van', 'Regular Cab', 'SUV', 'Sedan', 'SuperCab', 'SuperCrew', 'TSX Sport Wagon', 'Transit Van', 'Van', 'Wagon', 'Xtracab', 'access cab', 'beetle convertible', 'cab plus 4', 'club cab', 'convertible', 'coupe', 'crew cab', 'crewmax cab', 'cts coupe', 'cts wagon', 'cts-v coupe', 'double cab', 'e-series van', 'elantra coupe', 'extended cab', 'g convertible', 'g coupe', 'g sedan', 'g37 convertible', 'g37 coupe', 'genesis coupe', 'granturismo convertible', 'hatchback', 'king cab', 'koup', 'mega cab', 'minivan', 'promaster cargo van', 'q60 convertible', 'q60 coupe', 'quad cab', 'regular cab', 'regular-cab', 'sedan', 'supercab', 'supercrew', 'suv', 'transit van', 'tsx sport wagon', 'van', 'wagon', 'xtracab', nan]\n"
     ]
    }
   ],
   "source": [
    "# Show all body types\n",
    "display_unique(car_prices[\"body\"])"
   ]
  },
  {
   "cell_type": "markdown",
   "id": "556a1d30",
   "metadata": {},
   "source": [
    "We see that some of the most popular vehicle bodies, such as sedans, SUVs, hatchbacks, minivans and coupes, have duplicates present. We will repeat the same process that was just applied to the `make` column. "
   ]
  },
  {
   "cell_type": "code",
   "execution_count": 22,
   "id": "8bea8922",
   "metadata": {},
   "outputs": [
    {
     "name": "stdout",
     "output_type": "stream",
     "text": [
      "['Access Cab', 'Beetle Convertible', 'CTS Coupe', 'CTS Wagon', 'CTS-V Coupe', 'CTS-V Wagon', 'Cab Plus', 'Cab Plus 4', 'Club Cab', 'Convertible', 'Coupe', 'Crew Cab', 'CrewMax Cab', 'Crewmax Cab', 'Cts Coupe', 'Cts Wagon', 'Cts-v Coupe', 'Double Cab', 'E-Series Van', 'E-series Van', 'Elantra Coupe', 'Extended Cab', 'G Convertible', 'G Coupe', 'G Sedan', 'G37 Convertible', 'G37 Coupe', 'Genesis Coupe', 'GranTurismo Convertible', 'Granturismo Convertible', 'Hatchback', 'King Cab', 'Koup', 'Mega Cab', 'Minivan', 'Promaster Cargo Van', 'Q60 Convertible', 'Q60 Coupe', 'Quad Cab', 'Ram Van', 'Regular Cab', 'Regular-cab', 'SUV', 'Sedan', 'SuperCab', 'SuperCrew', 'Supercab', 'Supercrew', 'Suv', 'TSX Sport Wagon', 'Transit Van', 'Tsx Sport Wagon', 'Van', 'Wagon', 'Xtracab', nan]\n"
     ]
    }
   ],
   "source": [
    "# Capitalize all body type names\n",
    "car_prices[\"body\"] = car_prices[\"body\"].apply(capitalize_words)\n",
    "display_unique(car_prices[\"body\"])"
   ]
  },
  {
   "cell_type": "code",
   "execution_count": 23,
   "id": "5a946673",
   "metadata": {},
   "outputs": [],
   "source": [
    "# Replace SUV typos\n",
    "car_prices[\"body\"] = np.where(car_prices[\"body\"] == \"Suv\", \"SUV\", car_prices[\"body\"])"
   ]
  },
  {
   "cell_type": "markdown",
   "id": "7daab46f",
   "metadata": {},
   "source": [
    "There are still a few duplicates, but these body types are very rare in the dataset and thus will not have much of an impact on the analysis. The most important types to fix were the ones mentioned above. \n",
    "\n",
    "Next, we will handle missing `body` values:"
   ]
  },
  {
   "cell_type": "code",
   "execution_count": 24,
   "id": "862fa34a",
   "metadata": {
    "scrolled": true
   },
   "outputs": [
    {
     "name": "stdout",
     "output_type": "stream",
     "text": [
      "13195 missing values present in `body`.\n",
      "558811 values total.\n"
     ]
    }
   ],
   "source": [
    "# Handle missing `body` values\n",
    "print(car_prices[\"body\"].isna().sum(), \"missing values present in `body`.\")\n",
    "print(len(car_prices[\"body\"]), \"values total.\")"
   ]
  },
  {
   "cell_type": "code",
   "execution_count": 25,
   "id": "18057c46",
   "metadata": {},
   "outputs": [
    {
     "name": "stdout",
     "output_type": "stream",
     "text": [
      "68.93 percent of vehicles in the data are either sedans or SUVs.\n"
     ]
    }
   ],
   "source": [
    "# Check percentage of cars that are either sedans or SUVs\n",
    "sedan_suv_combined_count = len(car_prices[(car_prices['body'] == \"Sedan\") | (car_prices['body'] == \"SUV\")])\n",
    "sedan_suv_percentage = (sedan_suv_combined_count / len(car_prices)) * 100\n",
    "print(round(sedan_suv_percentage, 2), \"percent of vehicles in the data are either sedans or SUVs.\")"
   ]
  },
  {
   "cell_type": "markdown",
   "id": "005f6545",
   "metadata": {},
   "source": [
    "Because sedans and SUVs account for the majority of cars in the data, we will replace all missing `body` values with one of these two, chosen randomly. "
   ]
  },
  {
   "cell_type": "code",
   "execution_count": 26,
   "id": "21c724da",
   "metadata": {},
   "outputs": [
    {
     "name": "stdout",
     "output_type": "stream",
     "text": [
      "Filled missing values with either 'Sedan' or 'SUV.'\n",
      "0 missing values present in `body`.\n"
     ]
    }
   ],
   "source": [
    "# Replace missing values\n",
    "bodies = [\"Sedan\", \"SUV\"]\n",
    "car_prices[\"body\"] = np.where(car_prices[\"body\"].isna(), random.choice(bodies), car_prices[\"body\"])\n",
    "print(\"Filled missing values with either 'Sedan' or 'SUV.'\")\n",
    "print(car_prices[\"body\"].isna().sum(), \"missing values present in `body`.\")"
   ]
  },
  {
   "cell_type": "markdown",
   "id": "29565e80",
   "metadata": {},
   "source": [
    "### The `transmission` column\n",
    "\n",
    "Next, we will take a look at `transmission` to see if there are any potential problems. "
   ]
  },
  {
   "cell_type": "code",
   "execution_count": 27,
   "id": "51f905e8",
   "metadata": {},
   "outputs": [
    {
     "name": "stdout",
     "output_type": "stream",
     "text": [
      "Transmission types: ['automatic', nan, 'manual']\n",
      "65353 missing values present in `transmission`.\n"
     ]
    }
   ],
   "source": [
    "# Check values present\n",
    "print(\"Transmission types:\", car_prices[\"transmission\"].unique().tolist())\n",
    "\n",
    "# Show missing `transmission` values\n",
    "print(car_prices[\"transmission\"].isna().sum(), \"missing values present in `transmission`.\")"
   ]
  },
  {
   "cell_type": "code",
   "execution_count": 28,
   "id": "08742475",
   "metadata": {},
   "outputs": [
    {
     "data": {
      "text/html": [
       "<div>\n",
       "<style scoped>\n",
       "    .dataframe tbody tr th:only-of-type {\n",
       "        vertical-align: middle;\n",
       "    }\n",
       "\n",
       "    .dataframe tbody tr th {\n",
       "        vertical-align: top;\n",
       "    }\n",
       "\n",
       "    .dataframe thead th {\n",
       "        text-align: right;\n",
       "    }\n",
       "</style>\n",
       "<table border=\"1\" class=\"dataframe\">\n",
       "  <thead>\n",
       "    <tr style=\"text-align: right;\">\n",
       "      <th>transmission</th>\n",
       "      <th>automatic</th>\n",
       "      <th>manual</th>\n",
       "    </tr>\n",
       "  </thead>\n",
       "  <tbody>\n",
       "    <tr>\n",
       "      <th>count</th>\n",
       "      <td>475914</td>\n",
       "      <td>17544</td>\n",
       "    </tr>\n",
       "  </tbody>\n",
       "</table>\n",
       "</div>"
      ],
      "text/plain": [
       "transmission  automatic  manual\n",
       "count            475914   17544"
      ]
     },
     "execution_count": 28,
     "metadata": {},
     "output_type": "execute_result"
    }
   ],
   "source": [
    "# Check counts of each type of transmission\n",
    "car_prices[\"transmission\"].value_counts().to_frame().transpose()"
   ]
  },
  {
   "cell_type": "markdown",
   "id": "098922f9",
   "metadata": {},
   "source": [
    "We can fill missing `transmission` values with automatic, since that is by far the most common transmission type. "
   ]
  },
  {
   "cell_type": "code",
   "execution_count": 29,
   "id": "4beedca2",
   "metadata": {},
   "outputs": [
    {
     "name": "stdout",
     "output_type": "stream",
     "text": [
      "Filled missing values with 'automatic'.\n",
      "0 missing values present in `transmission`.\n"
     ]
    }
   ],
   "source": [
    "# Fill missing `transmission` values\n",
    "car_prices[\"transmission\"] = np.where(car_prices[\"transmission\"].isna(), \"automatic\", car_prices[\"transmission\"])\n",
    "print(\"Filled missing values with 'automatic'.\")\n",
    "print(car_prices[\"transmission\"].isna().sum(), \"missing values present in `transmission`.\")"
   ]
  },
  {
   "cell_type": "markdown",
   "id": "789dfa20",
   "metadata": {},
   "source": [
    "With that, the `transmission` column is now clean. "
   ]
  },
  {
   "cell_type": "markdown",
   "id": "05781446",
   "metadata": {},
   "source": [
    "### The `state` column"
   ]
  },
  {
   "cell_type": "code",
   "execution_count": 30,
   "id": "440f4a88",
   "metadata": {},
   "outputs": [
    {
     "data": {
      "text/plain": [
       "38"
      ]
     },
     "execution_count": 30,
     "metadata": {},
     "output_type": "execute_result"
    }
   ],
   "source": [
    "len(car_prices[\"state\"].unique())"
   ]
  },
  {
   "cell_type": "markdown",
   "id": "e3be26eb",
   "metadata": {},
   "source": [
    "We have cars from 38 different states in this dataset. "
   ]
  },
  {
   "cell_type": "code",
   "execution_count": 31,
   "id": "375d92f5",
   "metadata": {},
   "outputs": [
    {
     "data": {
      "text/html": [
       "<div>\n",
       "<style scoped>\n",
       "    .dataframe tbody tr th:only-of-type {\n",
       "        vertical-align: middle;\n",
       "    }\n",
       "\n",
       "    .dataframe tbody tr th {\n",
       "        vertical-align: top;\n",
       "    }\n",
       "\n",
       "    .dataframe thead th {\n",
       "        text-align: right;\n",
       "    }\n",
       "</style>\n",
       "<table border=\"1\" class=\"dataframe\">\n",
       "  <thead>\n",
       "    <tr style=\"text-align: right;\">\n",
       "      <th></th>\n",
       "      <th>33</th>\n",
       "      <th>37</th>\n",
       "      <th>17</th>\n",
       "      <th>1</th>\n",
       "      <th>18</th>\n",
       "      <th>0</th>\n",
       "      <th>4</th>\n",
       "      <th>31</th>\n",
       "      <th>6</th>\n",
       "      <th>22</th>\n",
       "      <th>...</th>\n",
       "      <th>2</th>\n",
       "      <th>26</th>\n",
       "      <th>30</th>\n",
       "      <th>23</th>\n",
       "      <th>9</th>\n",
       "      <th>3</th>\n",
       "      <th>29</th>\n",
       "      <th>13</th>\n",
       "      <th>19</th>\n",
       "      <th>15</th>\n",
       "    </tr>\n",
       "  </thead>\n",
       "  <tbody>\n",
       "    <tr>\n",
       "      <th>state</th>\n",
       "      <td>AB</td>\n",
       "      <td>AL</td>\n",
       "      <td>AZ</td>\n",
       "      <td>CA</td>\n",
       "      <td>CO</td>\n",
       "      <td>FL</td>\n",
       "      <td>GA</td>\n",
       "      <td>HI</td>\n",
       "      <td>IL</td>\n",
       "      <td>IN</td>\n",
       "      <td>...</td>\n",
       "      <td>PA</td>\n",
       "      <td>PR</td>\n",
       "      <td>QC</td>\n",
       "      <td>SC</td>\n",
       "      <td>TN</td>\n",
       "      <td>TX</td>\n",
       "      <td>UT</td>\n",
       "      <td>VA</td>\n",
       "      <td>WA</td>\n",
       "      <td>WI</td>\n",
       "    </tr>\n",
       "    <tr>\n",
       "      <th>count</th>\n",
       "      <td>928</td>\n",
       "      <td>26</td>\n",
       "      <td>8741</td>\n",
       "      <td>73148</td>\n",
       "      <td>7775</td>\n",
       "      <td>82945</td>\n",
       "      <td>34750</td>\n",
       "      <td>1237</td>\n",
       "      <td>23486</td>\n",
       "      <td>4325</td>\n",
       "      <td>...</td>\n",
       "      <td>53907</td>\n",
       "      <td>2725</td>\n",
       "      <td>1245</td>\n",
       "      <td>4251</td>\n",
       "      <td>20895</td>\n",
       "      <td>45913</td>\n",
       "      <td>1836</td>\n",
       "      <td>12027</td>\n",
       "      <td>7416</td>\n",
       "      <td>9851</td>\n",
       "    </tr>\n",
       "  </tbody>\n",
       "</table>\n",
       "<p>2 rows × 38 columns</p>\n",
       "</div>"
      ],
      "text/plain": [
       "        33  37    17     1     18     0      4     31     6     22  ...  \\\n",
       "state   AB  AL    AZ     CA    CO     FL     GA    HI     IL    IN  ...   \n",
       "count  928  26  8741  73148  7775  82945  34750  1237  23486  4325  ...   \n",
       "\n",
       "          2     26    30    23     9      3     29     13    19    15  \n",
       "state     PA    PR    QC    SC     TN     TX    UT     VA    WA    WI  \n",
       "count  53907  2725  1245  4251  20895  45913  1836  12027  7416  9851  \n",
       "\n",
       "[2 rows x 38 columns]"
      ]
     },
     "execution_count": 31,
     "metadata": {},
     "output_type": "execute_result"
    }
   ],
   "source": [
    "# Capitalize state shortenings\n",
    "car_prices[\"state\"] = car_prices[\"state\"].str.upper()\n",
    "car_prices[\"state\"].value_counts().to_frame().reset_index().sort_values(by=\"state\", ascending=True).transpose()"
   ]
  },
  {
   "cell_type": "markdown",
   "id": "cfac9b25",
   "metadata": {},
   "source": [
    "Let's see if there are any missing values. "
   ]
  },
  {
   "cell_type": "code",
   "execution_count": 32,
   "id": "87d3afa4",
   "metadata": {},
   "outputs": [
    {
     "data": {
      "text/plain": [
       "0"
      ]
     },
     "execution_count": 32,
     "metadata": {},
     "output_type": "execute_result"
    }
   ],
   "source": [
    "# Check for missing values\n",
    "car_prices[\"state\"].isna().sum()"
   ]
  },
  {
   "cell_type": "markdown",
   "id": "69148b14",
   "metadata": {},
   "source": [
    "Everything looks fine for the `state` column. Let's see which 10 states see the most used car sales. "
   ]
  },
  {
   "cell_type": "code",
   "execution_count": 33,
   "id": "20a0f021",
   "metadata": {},
   "outputs": [
    {
     "data": {
      "text/html": [
       "<div>\n",
       "<style scoped>\n",
       "    .dataframe tbody tr th:only-of-type {\n",
       "        vertical-align: middle;\n",
       "    }\n",
       "\n",
       "    .dataframe tbody tr th {\n",
       "        vertical-align: top;\n",
       "    }\n",
       "\n",
       "    .dataframe thead th {\n",
       "        text-align: right;\n",
       "    }\n",
       "</style>\n",
       "<table border=\"1\" class=\"dataframe\">\n",
       "  <thead>\n",
       "    <tr style=\"text-align: right;\">\n",
       "      <th></th>\n",
       "      <th>0</th>\n",
       "      <th>1</th>\n",
       "      <th>2</th>\n",
       "      <th>3</th>\n",
       "      <th>4</th>\n",
       "      <th>5</th>\n",
       "      <th>6</th>\n",
       "      <th>7</th>\n",
       "      <th>8</th>\n",
       "      <th>9</th>\n",
       "    </tr>\n",
       "  </thead>\n",
       "  <tbody>\n",
       "    <tr>\n",
       "      <th>state</th>\n",
       "      <td>FL</td>\n",
       "      <td>CA</td>\n",
       "      <td>PA</td>\n",
       "      <td>TX</td>\n",
       "      <td>GA</td>\n",
       "      <td>NJ</td>\n",
       "      <td>IL</td>\n",
       "      <td>NC</td>\n",
       "      <td>OH</td>\n",
       "      <td>TN</td>\n",
       "    </tr>\n",
       "    <tr>\n",
       "      <th>count</th>\n",
       "      <td>82945</td>\n",
       "      <td>73148</td>\n",
       "      <td>53907</td>\n",
       "      <td>45913</td>\n",
       "      <td>34750</td>\n",
       "      <td>27784</td>\n",
       "      <td>23486</td>\n",
       "      <td>21845</td>\n",
       "      <td>21575</td>\n",
       "      <td>20895</td>\n",
       "    </tr>\n",
       "  </tbody>\n",
       "</table>\n",
       "</div>"
      ],
      "text/plain": [
       "           0      1      2      3      4      5      6      7      8      9\n",
       "state     FL     CA     PA     TX     GA     NJ     IL     NC     OH     TN\n",
       "count  82945  73148  53907  45913  34750  27784  23486  21845  21575  20895"
      ]
     },
     "execution_count": 33,
     "metadata": {},
     "output_type": "execute_result"
    }
   ],
   "source": [
    "# Find top 10 states\n",
    "top_10_states = car_prices[\"state\"].value_counts().to_frame().head(10).reset_index()\n",
    "top_10_states.transpose()"
   ]
  },
  {
   "cell_type": "markdown",
   "id": "82f4b515",
   "metadata": {},
   "source": [
    "Unsurprisingly, states with large populations like Florida, California and Texas sell huge numbers of used cars. "
   ]
  },
  {
   "cell_type": "markdown",
   "id": "a8e0cf3a",
   "metadata": {},
   "source": [
    "### The `condition` column"
   ]
  },
  {
   "cell_type": "code",
   "execution_count": 34,
   "id": "b539013b",
   "metadata": {},
   "outputs": [
    {
     "name": "stdout",
     "output_type": "stream",
     "text": [
      "Total entries in the dataset: 558811\n"
     ]
    },
    {
     "data": {
      "text/html": [
       "<div>\n",
       "<style scoped>\n",
       "    .dataframe tbody tr th:only-of-type {\n",
       "        vertical-align: middle;\n",
       "    }\n",
       "\n",
       "    .dataframe tbody tr th {\n",
       "        vertical-align: top;\n",
       "    }\n",
       "\n",
       "    .dataframe thead th {\n",
       "        text-align: right;\n",
       "    }\n",
       "</style>\n",
       "<table border=\"1\" class=\"dataframe\">\n",
       "  <thead>\n",
       "    <tr style=\"text-align: right;\">\n",
       "      <th></th>\n",
       "      <th>count</th>\n",
       "      <th>mean</th>\n",
       "      <th>std</th>\n",
       "      <th>min</th>\n",
       "      <th>25%</th>\n",
       "      <th>50%</th>\n",
       "      <th>75%</th>\n",
       "      <th>max</th>\n",
       "    </tr>\n",
       "  </thead>\n",
       "  <tbody>\n",
       "    <tr>\n",
       "      <th>condition</th>\n",
       "      <td>547017.0</td>\n",
       "      <td>3.424512</td>\n",
       "      <td>0.949439</td>\n",
       "      <td>1.0</td>\n",
       "      <td>2.7</td>\n",
       "      <td>3.6</td>\n",
       "      <td>4.2</td>\n",
       "      <td>5.0</td>\n",
       "    </tr>\n",
       "  </tbody>\n",
       "</table>\n",
       "</div>"
      ],
      "text/plain": [
       "              count      mean       std  min  25%  50%  75%  max\n",
       "condition  547017.0  3.424512  0.949439  1.0  2.7  3.6  4.2  5.0"
      ]
     },
     "execution_count": 34,
     "metadata": {},
     "output_type": "execute_result"
    }
   ],
   "source": [
    "# View descriptive statistics\n",
    "print(\"Total entries in the dataset:\", len(car_prices))\n",
    "car_prices[\"condition\"].describe().to_frame().transpose()"
   ]
  },
  {
   "cell_type": "markdown",
   "id": "bb0d27a9",
   "metadata": {},
   "source": [
    "We see that condition goes from 1 to 5, with a sensible mean of ~3.42. However, we see that there are only about 547,000 condition values, meaning about 11,000 vehicles are missing a condition value. We can simply fill these in with the mode. "
   ]
  },
  {
   "cell_type": "code",
   "execution_count": 35,
   "id": "59e06acf",
   "metadata": {},
   "outputs": [
    {
     "name": "stdout",
     "output_type": "stream",
     "text": [
      "Replaced missing values with the mode condition.\n",
      "0 missing values present in `condition`.\n"
     ]
    }
   ],
   "source": [
    "# Fill in missing values with the mode condition\n",
    "car_prices[\"condition\"] = np.where(car_prices[\"condition\"].isna(), car_prices[\"condition\"].mode(), car_prices[\"condition\"])\n",
    "print(\"Replaced missing values with the mode condition.\")\n",
    "print(car_prices[\"condition\"].isna().sum(), \"missing values present in `condition`.\")"
   ]
  },
  {
   "cell_type": "markdown",
   "id": "c2f8a0a5",
   "metadata": {},
   "source": [
    "Let's view the distribution of car conditions. "
   ]
  },
  {
   "cell_type": "code",
   "execution_count": 36,
   "id": "5ccd592a",
   "metadata": {},
   "outputs": [
    {
     "data": {
      "image/png": "[encoded data removed]",
      "text/plain": [
       "<Figure size 640x480 with 1 Axes>"
      ]
     },
     "metadata": {},
     "output_type": "display_data"
    }
   ],
   "source": [
    "# Check condition distribution\n",
    "sns.histplot(car_prices[\"condition\"])\n",
    "plt.title(\"Distribution of Used Car Conditions\")\n",
    "plt.show()"
   ]
  },
  {
   "cell_type": "markdown",
   "id": "ab8c303f",
   "metadata": {},
   "source": [
    "We see a large clustering of used cars in the 3.5-4.3 range, with a massive spike around 2.0. This suggests that a large proportion of people selling their cars were doing so because the cars weren't in good shape and they wanted to upgrade. "
   ]
  },
  {
   "cell_type": "markdown",
   "id": "1d7ae502",
   "metadata": {},
   "source": [
    "### The `color` column"
   ]
  },
  {
   "cell_type": "code",
   "execution_count": 37,
   "id": "d1ba33f3",
   "metadata": {},
   "outputs": [
    {
     "name": "stdout",
     "output_type": "stream",
     "text": [
      "['beige', 'black', 'blue', 'brown', 'burgundy', 'charcoal', 'gold', 'gray', 'green', 'lime', 'off-white', 'orange', 'pink', 'purple', 'red', 'silver', 'turquoise', 'white', 'yellow', '—', nan]\n"
     ]
    }
   ],
   "source": [
    "display_unique(car_prices[\"color\"])"
   ]
  },
  {
   "cell_type": "markdown",
   "id": "2d8dbbfd",
   "metadata": {},
   "source": [
    "The values in this column look mostly fine, though we will need to deal with `—` and `nan` values."
   ]
  },
  {
   "cell_type": "code",
   "execution_count": 38,
   "id": "f412cb9a",
   "metadata": {},
   "outputs": [
    {
     "name": "stdout",
     "output_type": "stream",
     "text": [
      "25434 missing values present in `color`.\n"
     ]
    }
   ],
   "source": [
    "# Show number of missing `color` values\n",
    "num_missing_colors = len(car_prices[(car_prices[\"color\"].isnull()) | (car_prices[\"color\"] == \"—\")])\n",
    "print(num_missing_colors, \"missing values present in `color`.\")"
   ]
  },
  {
   "cell_type": "markdown",
   "id": "fbcaf6db",
   "metadata": {},
   "source": [
    "We can replace both of these types of incorrect values with a random value from a subset of the most popular colors. But what are those? "
   ]
  },
  {
   "cell_type": "code",
   "execution_count": 39,
   "id": "be77bec1",
   "metadata": {},
   "outputs": [
    {
     "data": {
      "text/html": [
       "<div>\n",
       "<style scoped>\n",
       "    .dataframe tbody tr th:only-of-type {\n",
       "        vertical-align: middle;\n",
       "    }\n",
       "\n",
       "    .dataframe tbody tr th {\n",
       "        vertical-align: top;\n",
       "    }\n",
       "\n",
       "    .dataframe thead th {\n",
       "        text-align: right;\n",
       "    }\n",
       "</style>\n",
       "<table border=\"1\" class=\"dataframe\">\n",
       "  <thead>\n",
       "    <tr style=\"text-align: right;\">\n",
       "      <th>color</th>\n",
       "      <th>black</th>\n",
       "      <th>white</th>\n",
       "      <th>silver</th>\n",
       "      <th>gray</th>\n",
       "      <th>blue</th>\n",
       "      <th>red</th>\n",
       "      <th>—</th>\n",
       "      <th>green</th>\n",
       "      <th>gold</th>\n",
       "      <th>beige</th>\n",
       "      <th>burgundy</th>\n",
       "      <th>brown</th>\n",
       "      <th>orange</th>\n",
       "      <th>purple</th>\n",
       "      <th>off-white</th>\n",
       "      <th>yellow</th>\n",
       "      <th>charcoal</th>\n",
       "      <th>turquoise</th>\n",
       "      <th>pink</th>\n",
       "      <th>lime</th>\n",
       "    </tr>\n",
       "  </thead>\n",
       "  <tbody>\n",
       "    <tr>\n",
       "      <th>count</th>\n",
       "      <td>110970</td>\n",
       "      <td>106673</td>\n",
       "      <td>83389</td>\n",
       "      <td>82857</td>\n",
       "      <td>51139</td>\n",
       "      <td>43569</td>\n",
       "      <td>24685</td>\n",
       "      <td>11382</td>\n",
       "      <td>11342</td>\n",
       "      <td>9222</td>\n",
       "      <td>8972</td>\n",
       "      <td>6717</td>\n",
       "      <td>2078</td>\n",
       "      <td>1561</td>\n",
       "      <td>1449</td>\n",
       "      <td>1285</td>\n",
       "      <td>479</td>\n",
       "      <td>236</td>\n",
       "      <td>42</td>\n",
       "      <td>15</td>\n",
       "    </tr>\n",
       "  </tbody>\n",
       "</table>\n",
       "</div>"
      ],
      "text/plain": [
       "color   black   white  silver   gray   blue    red      —  green   gold  \\\n",
       "count  110970  106673   83389  82857  51139  43569  24685  11382  11342   \n",
       "\n",
       "color  beige  burgundy  brown  orange  purple  off-white  yellow  charcoal  \\\n",
       "count   9222      8972   6717    2078    1561       1449    1285       479   \n",
       "\n",
       "color  turquoise  pink  lime  \n",
       "count        236    42    15  "
      ]
     },
     "execution_count": 39,
     "metadata": {},
     "output_type": "execute_result"
    }
   ],
   "source": [
    "# Find most common colors\n",
    "car_prices[\"color\"].value_counts().to_frame().transpose()"
   ]
  },
  {
   "cell_type": "markdown",
   "id": "e71f973a",
   "metadata": {},
   "source": [
    "It appears that black, white, silver, gray, blue, and red are by far the most common car colors, so we can replace missing values with one of those. "
   ]
  },
  {
   "cell_type": "code",
   "execution_count": 40,
   "id": "66bc2dd4",
   "metadata": {
    "scrolled": true
   },
   "outputs": [
    {
     "name": "stdout",
     "output_type": "stream",
     "text": [
      "Filled missing values with a random color from ['black', 'white', 'silver', 'gray', 'blue', 'red'] .\n",
      "0 missing values present in `color`.\n"
     ]
    }
   ],
   "source": [
    "# Replace missing values with a random popular color\n",
    "popular_colors = [\"black\", \"white\", \"silver\", \"gray\", \"blue\", \"red\"]\n",
    "is_missing_color = (car_prices[\"color\"].isna()) | (car_prices[\"color\"] == \"—\")\n",
    "car_prices[\"color\"] = np.where(is_missing_color, random.choice(popular_colors), car_prices[\"color\"])\n",
    "print(\"Filled missing values with a random color from\", popular_colors, \".\")\n",
    "num_missing_colors = len(car_prices[(car_prices[\"color\"].isnull()) | (car_prices[\"color\"] == \"—\")])\n",
    "print(num_missing_colors, \"missing values present in `color`.\")"
   ]
  },
  {
   "cell_type": "markdown",
   "id": "b395a8a9",
   "metadata": {},
   "source": [
    "### The `odometer` column"
   ]
  },
  {
   "cell_type": "code",
   "execution_count": 41,
   "id": "e9b7a42c",
   "metadata": {},
   "outputs": [
    {
     "name": "stdout",
     "output_type": "stream",
     "text": [
      "Mode: 0    1.0\n",
      "Name: odometer, dtype: float64\n"
     ]
    },
    {
     "data": {
      "text/html": [
       "<div>\n",
       "<style scoped>\n",
       "    .dataframe tbody tr th:only-of-type {\n",
       "        vertical-align: middle;\n",
       "    }\n",
       "\n",
       "    .dataframe tbody tr th {\n",
       "        vertical-align: top;\n",
       "    }\n",
       "\n",
       "    .dataframe thead th {\n",
       "        text-align: right;\n",
       "    }\n",
       "</style>\n",
       "<table border=\"1\" class=\"dataframe\">\n",
       "  <thead>\n",
       "    <tr style=\"text-align: right;\">\n",
       "      <th></th>\n",
       "      <th>count</th>\n",
       "      <th>mean</th>\n",
       "      <th>std</th>\n",
       "      <th>min</th>\n",
       "      <th>25%</th>\n",
       "      <th>50%</th>\n",
       "      <th>75%</th>\n",
       "      <th>max</th>\n",
       "    </tr>\n",
       "  </thead>\n",
       "  <tbody>\n",
       "    <tr>\n",
       "      <th>odometer</th>\n",
       "      <td>558717.0</td>\n",
       "      <td>68323.195797</td>\n",
       "      <td>53397.752933</td>\n",
       "      <td>1.0</td>\n",
       "      <td>28374.0</td>\n",
       "      <td>52256.0</td>\n",
       "      <td>99112.0</td>\n",
       "      <td>999999.0</td>\n",
       "    </tr>\n",
       "  </tbody>\n",
       "</table>\n",
       "</div>"
      ],
      "text/plain": [
       "             count          mean           std  min      25%      50%  \\\n",
       "odometer  558717.0  68323.195797  53397.752933  1.0  28374.0  52256.0   \n",
       "\n",
       "              75%       max  \n",
       "odometer  99112.0  999999.0  "
      ]
     },
     "execution_count": 41,
     "metadata": {},
     "output_type": "execute_result"
    }
   ],
   "source": [
    "# View descriptive statistics\n",
    "print(\"Mode:\", car_prices[\"odometer\"].mode())\n",
    "car_prices[\"odometer\"].describe().to_frame().transpose()"
   ]
  },
  {
   "cell_type": "markdown",
   "id": "49794f6a",
   "metadata": {},
   "source": [
    "We will replace missing values with the mean, since using an odometer reading of 1 mile to replace missing values does not seem accurate.  "
   ]
  },
  {
   "cell_type": "code",
   "execution_count": 42,
   "id": "f86b0655",
   "metadata": {},
   "outputs": [
    {
     "name": "stdout",
     "output_type": "stream",
     "text": [
      "Missing odometer values: 94\n",
      "Replaced missing values with the mean odometer reading.\n",
      "0 missing values present in `odometer`.\n"
     ]
    }
   ],
   "source": [
    "# Replace missing values\n",
    "print(\"Missing odometer values:\", car_prices[\"odometer\"].isna().sum())\n",
    "car_prices[\"odometer\"] = np.where(car_prices[\"odometer\"].isna(), car_prices[\"odometer\"].mean(), car_prices[\"odometer\"])\n",
    "print(\"Replaced missing values with the mean odometer reading.\")\n",
    "print(car_prices[\"odometer\"].isna().sum(), \"missing values present in `odometer`.\")"
   ]
  },
  {
   "cell_type": "markdown",
   "id": "1a2fce8b",
   "metadata": {},
   "source": [
    "Because `odometer` is a continuous variable with a very large range of possible values, we should check for outliers and deal with them. However, we should look at the distribution of values to determine whether these will actually have a considerable impact on the analysis. "
   ]
  },
  {
   "cell_type": "code",
   "execution_count": 43,
   "id": "8925070e",
   "metadata": {},
   "outputs": [
    {
     "data": {
      "image/png": "[encoded data removed]",
      "text/plain": [
       "<Figure size 640x480 with 1 Axes>"
      ]
     },
     "metadata": {},
     "output_type": "display_data"
    }
   ],
   "source": [
    "# View distribution of odometer reading\n",
    "sns.histplot(car_prices[\"odometer\"])\n",
    "plt.title(\"Distribution of Odometer Readings\")\n",
    "plt.show()"
   ]
  },
  {
   "cell_type": "markdown",
   "id": "459e1b66",
   "metadata": {},
   "source": [
    "We see that the overwhelming majority of values fall within the 0 to 200,000 range, which is sensible. The outliers are very rare, and thus will have a negligible impact on the analysis. "
   ]
  },
  {
   "cell_type": "markdown",
   "id": "e5b78d50",
   "metadata": {},
   "source": [
    "### The `interior` column"
   ]
  },
  {
   "cell_type": "code",
   "execution_count": 44,
   "id": "09f332aa",
   "metadata": {},
   "outputs": [
    {
     "name": "stdout",
     "output_type": "stream",
     "text": [
      "['beige', 'black', 'blue', 'brown', 'burgundy', 'gold', 'gray', 'green', 'off-white', 'orange', 'purple', 'red', 'silver', 'tan', 'white', 'yellow', '—', nan]\n"
     ]
    }
   ],
   "source": [
    "display_unique(car_prices[\"interior\"])"
   ]
  },
  {
   "cell_type": "markdown",
   "id": "d445f753",
   "metadata": {},
   "source": [
    "The names of the interior colors look fine, but the `—` and `nan` values should be dealt with. Again, we can replace these with a random selection from the most common interior colors. "
   ]
  },
  {
   "cell_type": "code",
   "execution_count": 45,
   "id": "340da1b8",
   "metadata": {},
   "outputs": [
    {
     "data": {
      "text/html": [
       "<div>\n",
       "<style scoped>\n",
       "    .dataframe tbody tr th:only-of-type {\n",
       "        vertical-align: middle;\n",
       "    }\n",
       "\n",
       "    .dataframe tbody tr th {\n",
       "        vertical-align: top;\n",
       "    }\n",
       "\n",
       "    .dataframe thead th {\n",
       "        text-align: right;\n",
       "    }\n",
       "</style>\n",
       "<table border=\"1\" class=\"dataframe\">\n",
       "  <thead>\n",
       "    <tr style=\"text-align: right;\">\n",
       "      <th>interior</th>\n",
       "      <th>black</th>\n",
       "      <th>gray</th>\n",
       "      <th>beige</th>\n",
       "      <th>tan</th>\n",
       "      <th>—</th>\n",
       "      <th>brown</th>\n",
       "      <th>red</th>\n",
       "      <th>blue</th>\n",
       "      <th>silver</th>\n",
       "      <th>off-white</th>\n",
       "      <th>purple</th>\n",
       "      <th>gold</th>\n",
       "      <th>white</th>\n",
       "      <th>green</th>\n",
       "      <th>burgundy</th>\n",
       "      <th>orange</th>\n",
       "      <th>yellow</th>\n",
       "    </tr>\n",
       "  </thead>\n",
       "  <tbody>\n",
       "    <tr>\n",
       "      <th>count</th>\n",
       "      <td>244325</td>\n",
       "      <td>178578</td>\n",
       "      <td>59758</td>\n",
       "      <td>44093</td>\n",
       "      <td>17076</td>\n",
       "      <td>8640</td>\n",
       "      <td>1359</td>\n",
       "      <td>1138</td>\n",
       "      <td>1099</td>\n",
       "      <td>480</td>\n",
       "      <td>339</td>\n",
       "      <td>324</td>\n",
       "      <td>252</td>\n",
       "      <td>245</td>\n",
       "      <td>191</td>\n",
       "      <td>145</td>\n",
       "      <td>20</td>\n",
       "    </tr>\n",
       "  </tbody>\n",
       "</table>\n",
       "</div>"
      ],
      "text/plain": [
       "interior   black    gray  beige    tan      —  brown   red  blue  silver  \\\n",
       "count     244325  178578  59758  44093  17076   8640  1359  1138    1099   \n",
       "\n",
       "interior  off-white  purple  gold  white  green  burgundy  orange  yellow  \n",
       "count           480     339   324    252    245       191     145      20  "
      ]
     },
     "execution_count": 45,
     "metadata": {},
     "output_type": "execute_result"
    }
   ],
   "source": [
    "car_prices[\"interior\"].value_counts().to_frame().transpose()"
   ]
  },
  {
   "cell_type": "code",
   "execution_count": 46,
   "id": "4872fe33",
   "metadata": {},
   "outputs": [
    {
     "name": "stdout",
     "output_type": "stream",
     "text": [
      "749 missing values present in `interior`.\n",
      "Filled missing values with a random color from ['black', 'gray', 'beige', 'tan'] .\n",
      "0 missing values present in `interior`.\n"
     ]
    }
   ],
   "source": [
    "# Replace missing interior colors with the most common values\n",
    "print(car_prices[\"interior\"].isna().sum(), \"missing values present in `interior`.\")\n",
    "most_common_interior_colors = [\"black\", \"gray\", \"beige\", \"tan\"]\n",
    "is_missing_interior_color = (car_prices[\"interior\"].isna()) | (car_prices[\"interior\"] == \"—\")\n",
    "car_prices[\"interior\"] = np.where(is_missing_interior_color, random.choice(most_common_interior_colors), car_prices[\"interior\"])\n",
    "print(\"Filled missing values with a random color from\", most_common_interior_colors, \".\")\n",
    "print(car_prices[\"interior\"].isna().sum(), \"missing values present in `interior`.\")"
   ]
  },
  {
   "cell_type": "markdown",
   "id": "d023e582",
   "metadata": {},
   "source": [
    "Let's check the list of interior colors in the dataset now. It shouldn't include `—` or `nan` anymore. "
   ]
  },
  {
   "cell_type": "code",
   "execution_count": 47,
   "id": "a3abb317",
   "metadata": {},
   "outputs": [
    {
     "name": "stdout",
     "output_type": "stream",
     "text": [
      "['beige', 'black', 'blue', 'brown', 'burgundy', 'gold', 'gray', 'green', 'off-white', 'orange', 'purple', 'red', 'silver', 'tan', 'white', 'yellow']\n"
     ]
    }
   ],
   "source": [
    "display_unique(car_prices[\"interior\"])"
   ]
  },
  {
   "cell_type": "markdown",
   "id": "3dc914e1",
   "metadata": {},
   "source": [
    "With this done, the `interior` column is now clean. "
   ]
  },
  {
   "cell_type": "markdown",
   "id": "702d5152",
   "metadata": {},
   "source": [
    "### The `seller` column"
   ]
  },
  {
   "cell_type": "code",
   "execution_count": 48,
   "id": "2566572f",
   "metadata": {},
   "outputs": [
    {
     "name": "stdout",
     "output_type": "stream",
     "text": [
      "There are 14264 unique sellers in the data.\n"
     ]
    }
   ],
   "source": [
    "print(\"There are\", len(car_prices[\"seller\"].unique()), \"unique sellers in the data.\")"
   ]
  },
  {
   "cell_type": "markdown",
   "id": "fd6e4107",
   "metadata": {},
   "source": [
    "It would take too long to correct all incorrect `seller` values, so we will simply replace missing values. "
   ]
  },
  {
   "cell_type": "code",
   "execution_count": 49,
   "id": "3aa29188",
   "metadata": {},
   "outputs": [
    {
     "data": {
      "text/plain": [
       "0"
      ]
     },
     "execution_count": 49,
     "metadata": {},
     "output_type": "execute_result"
    }
   ],
   "source": [
    "car_prices[\"seller\"].isna().sum()"
   ]
  },
  {
   "cell_type": "markdown",
   "id": "8ac53c09",
   "metadata": {},
   "source": [
    "There are no missing values, so nothing needs to be done. "
   ]
  },
  {
   "cell_type": "markdown",
   "id": "269c495c",
   "metadata": {},
   "source": [
    "### The `mmr` column"
   ]
  },
  {
   "cell_type": "code",
   "execution_count": 50,
   "id": "bb3d0bbc",
   "metadata": {},
   "outputs": [
    {
     "data": {
      "text/html": [
       "<div>\n",
       "<style scoped>\n",
       "    .dataframe tbody tr th:only-of-type {\n",
       "        vertical-align: middle;\n",
       "    }\n",
       "\n",
       "    .dataframe tbody tr th {\n",
       "        vertical-align: top;\n",
       "    }\n",
       "\n",
       "    .dataframe thead th {\n",
       "        text-align: right;\n",
       "    }\n",
       "</style>\n",
       "<table border=\"1\" class=\"dataframe\">\n",
       "  <thead>\n",
       "    <tr style=\"text-align: right;\">\n",
       "      <th></th>\n",
       "      <th>count</th>\n",
       "      <th>mean</th>\n",
       "      <th>std</th>\n",
       "      <th>min</th>\n",
       "      <th>25%</th>\n",
       "      <th>50%</th>\n",
       "      <th>75%</th>\n",
       "      <th>max</th>\n",
       "    </tr>\n",
       "  </thead>\n",
       "  <tbody>\n",
       "    <tr>\n",
       "      <th>mmr</th>\n",
       "      <td>558811.0</td>\n",
       "      <td>13769.324646</td>\n",
       "      <td>9679.874607</td>\n",
       "      <td>25.0</td>\n",
       "      <td>7100.0</td>\n",
       "      <td>12250.0</td>\n",
       "      <td>18300.0</td>\n",
       "      <td>182000.0</td>\n",
       "    </tr>\n",
       "  </tbody>\n",
       "</table>\n",
       "</div>"
      ],
      "text/plain": [
       "        count          mean          std   min     25%      50%      75%  \\\n",
       "mmr  558811.0  13769.324646  9679.874607  25.0  7100.0  12250.0  18300.0   \n",
       "\n",
       "          max  \n",
       "mmr  182000.0  "
      ]
     },
     "execution_count": 50,
     "metadata": {},
     "output_type": "execute_result"
    }
   ],
   "source": [
    "# Get descriptive statistics about 'mmr'\n",
    "car_prices[\"mmr\"].describe().to_frame().transpose()"
   ]
  },
  {
   "cell_type": "markdown",
   "id": "cfcdbde1",
   "metadata": {},
   "source": [
    "These values seem reasonable. Let's check for missing values: "
   ]
  },
  {
   "cell_type": "code",
   "execution_count": 51,
   "id": "c692ef78",
   "metadata": {},
   "outputs": [
    {
     "data": {
      "text/plain": [
       "0"
      ]
     },
     "execution_count": 51,
     "metadata": {},
     "output_type": "execute_result"
    }
   ],
   "source": [
    "# Check for missing values\n",
    "car_prices[\"mmr\"].isna().sum()"
   ]
  },
  {
   "cell_type": "markdown",
   "id": "5562d585",
   "metadata": {},
   "source": [
    "No missing values, so we are all good here. "
   ]
  },
  {
   "cell_type": "markdown",
   "id": "34bb0b62",
   "metadata": {},
   "source": [
    "### The `sellingprice` column"
   ]
  },
  {
   "cell_type": "code",
   "execution_count": 52,
   "id": "ad5c9b4b",
   "metadata": {},
   "outputs": [
    {
     "data": {
      "text/html": [
       "<div>\n",
       "<style scoped>\n",
       "    .dataframe tbody tr th:only-of-type {\n",
       "        vertical-align: middle;\n",
       "    }\n",
       "\n",
       "    .dataframe tbody tr th {\n",
       "        vertical-align: top;\n",
       "    }\n",
       "\n",
       "    .dataframe thead th {\n",
       "        text-align: right;\n",
       "    }\n",
       "</style>\n",
       "<table border=\"1\" class=\"dataframe\">\n",
       "  <thead>\n",
       "    <tr style=\"text-align: right;\">\n",
       "      <th></th>\n",
       "      <th>count</th>\n",
       "      <th>mean</th>\n",
       "      <th>std</th>\n",
       "      <th>min</th>\n",
       "      <th>25%</th>\n",
       "      <th>50%</th>\n",
       "      <th>75%</th>\n",
       "      <th>max</th>\n",
       "    </tr>\n",
       "  </thead>\n",
       "  <tbody>\n",
       "    <tr>\n",
       "      <th>sellingprice</th>\n",
       "      <td>558811.0</td>\n",
       "      <td>13611.262461</td>\n",
       "      <td>9749.656919</td>\n",
       "      <td>1.0</td>\n",
       "      <td>6900.0</td>\n",
       "      <td>12100.0</td>\n",
       "      <td>18200.0</td>\n",
       "      <td>230000.0</td>\n",
       "    </tr>\n",
       "  </tbody>\n",
       "</table>\n",
       "</div>"
      ],
      "text/plain": [
       "                 count          mean          std  min     25%      50%  \\\n",
       "sellingprice  558811.0  13611.262461  9749.656919  1.0  6900.0  12100.0   \n",
       "\n",
       "                  75%       max  \n",
       "sellingprice  18200.0  230000.0  "
      ]
     },
     "execution_count": 52,
     "metadata": {},
     "output_type": "execute_result"
    }
   ],
   "source": [
    "# Get descriptive statistics about 'sellingprice'\n",
    "car_prices[\"sellingprice\"].describe().to_frame().transpose()"
   ]
  },
  {
   "cell_type": "markdown",
   "id": "7f5cb271",
   "metadata": {},
   "source": [
    "The descriptive statistics for `sellingprice` are very similar to those of `mmr`, given that the selling price of a vehicle is closely related to the MMR (a value that helps dealers decide how much to offer a customer for a trade-in vehicle). \n",
    "\n",
    "There are no missing values, since the count is 558,811, the same as `mmr` which had no missing values. "
   ]
  },
  {
   "cell_type": "markdown",
   "id": "3c5bbf01",
   "metadata": {},
   "source": [
    "### The `saledate` column"
   ]
  },
  {
   "cell_type": "code",
   "execution_count": 53,
   "id": "9ab4ab26",
   "metadata": {},
   "outputs": [
    {
     "data": {
      "text/plain": [
       "0"
      ]
     },
     "execution_count": 53,
     "metadata": {},
     "output_type": "execute_result"
    }
   ],
   "source": [
    "# Check for missing values\n",
    "car_prices[\"saledate\"].isna().sum()"
   ]
  },
  {
   "cell_type": "markdown",
   "id": "0a4cb759",
   "metadata": {},
   "source": [
    "No missing values are present in `saledate`, so this column is fine. "
   ]
  },
  {
   "cell_type": "markdown",
   "id": "a30fa1ff",
   "metadata": {},
   "source": [
    "## Task 4\n",
    "Identify potential research questions or hypotheses that could be addressed through this analysis, and conduct correlation analysis to explore the relationships between variables. Use appropriate statistical techniques to measure the strength and direction of the relationship.\n",
    "    \n",
    "<table>\n",
    "    <tr>\n",
    "        <td style=\"text-align: center\"><b><h3>Research question</h3></b></td>\n",
    "        <td style=\"text-align: center\"><b><h3>Tools to apply</h3></b></td>\n",
    "    </tr>\n",
    "    <tr>\n",
    "        <td style=\"text-align: center\">What is the relationship between the number of miles a car has been driven and its resale value?</td>\n",
    "        <td style=\"text-align: center\">Scatterplot, correlation coefficient analysis</td>\n",
    "    </tr>\n",
    "    <tr>\n",
    "        <td style=\"text-align: center\">What is the relationship between the year of a vehicle and its resale value?</td>\n",
    "        <td style=\"text-align: center\">Bar chart, one-way ANOVA test</td>\n",
    "    </tr>\n",
    "    <tr>\n",
    "        <td style=\"text-align: center\">Does a vehicle's transmission type significantly impact its resale value?</td>\n",
    "        <td style=\"text-align: center\">Bar chart, two-sample t test</td>\n",
    "    </tr>\n",
    "    <tr>\n",
    "        <td style=\"text-align: center\">Does the state/province in which a car is sold affect its resale value?</td>\n",
    "        <td style=\"text-align: center\">Bar chart, one-way ANOVA test</td>\n",
    "    </tr>\n",
    "    <tr>\n",
    "        <td style=\"text-align: center\">Do certain colors of cars net a higher resale value than others?</td>\n",
    "        <td style=\"text-align: center\">Bar chart, one-way ANOVA test</td>\n",
    "    </tr>\n",
    "    <tr>\n",
    "        <td style=\"text-align: center\">Which numeric factor (year, condition, or odometer) has the largest effect on resale value?</td>\n",
    "        <td style=\"text-align: center\">Correlation matrix/heatmap</td>\n",
    "    </table>"
   ]
  },
  {
   "cell_type": "markdown",
   "id": "740e5d53",
   "metadata": {},
   "source": [
    "### What is the relationship between the number of miles a car has been driven and its resale value? \n",
    "We will first check out a scatterplot of `odometer` vs. `sellingprice`. Because there are over 558,000 entries in the data and they would never all fit on one scatterplot, we will take a random sample of the data. "
   ]
  },
  {
   "cell_type": "code",
   "execution_count": 54,
   "id": "2c40682a",
   "metadata": {
    "scrolled": false
   },
   "outputs": [
    {
     "data": {
      "image/png": "[encoded data removed]",
      "text/plain": [
       "<Figure size 640x480 with 1 Axes>"
      ]
     },
     "metadata": {},
     "output_type": "display_data"
    },
    {
     "name": "stdout",
     "output_type": "stream",
     "text": [
      "Correlation coefficient: -0.5908358102693942\n"
     ]
    }
   ],
   "source": [
    "# Take random sample of the data\n",
    "sample = car_prices.sample(500, random_state=42)\n",
    "\n",
    "# Plot data and get correlation coefficient\n",
    "plt.scatter(sample[\"odometer\"], sample[\"sellingprice\"])\n",
    "plt.title(\"Plot of Odometer Reading vs. Selling Price\")\n",
    "plt.xlabel(\"Odometer Reading (mi)\")\n",
    "plt.ylabel(\"Selling price (USD)\")\n",
    "plt.show()\n",
    "print(\"Correlation coefficient:\", sample[\"odometer\"].corr(sample[\"sellingprice\"]))"
   ]
  },
  {
   "cell_type": "markdown",
   "id": "a2c96126",
   "metadata": {},
   "source": [
    "We find a correlation coefficient of ~-0.59, which means that a car's selling price decreases by about <span>&dollar;0.59</span> for every additional mile driven, on average. "
   ]
  },
  {
   "cell_type": "markdown",
   "id": "752c92af",
   "metadata": {},
   "source": [
    "### What is the relationship between the year of a vehicle and its resale value?\n",
    "Here, we want to run a one-factor ANOVA test to determine if a significant difference exists between the mean resale values of cars manufactured in different years. \n",
    "\n",
    "* $H_0$: No significant difference exists between the mean resale values of cars manufactured in different years. \n",
    "* $H_a$: A significant difference exists. \n",
    "* $\\alpha$ = 0.05. "
   ]
  },
  {
   "cell_type": "code",
   "execution_count": 55,
   "id": "0c69d544",
   "metadata": {},
   "outputs": [
    {
     "name": "stdout",
     "output_type": "stream",
     "text": [
      "F-statistic: 9754.526871791879\n",
      "P-value: 0.0\n"
     ]
    }
   ],
   "source": [
    "from scipy.stats import f_oneway\n",
    "\n",
    "# Group by year\n",
    "mean_resale_value_by_year = [group[\"sellingprice\"] for year, group in car_prices.groupby(\"year\")]\n",
    "\n",
    "# Perform one-way ANOVA test\n",
    "f_stat, p_value = f_oneway(*mean_resale_value_by_year)\n",
    "print(\"F-statistic:\", f_stat)\n",
    "print(\"P-value:\", p_value)"
   ]
  },
  {
   "cell_type": "markdown",
   "id": "ceb3c093",
   "metadata": {},
   "source": [
    "We get a P-value that is much less than $\\alpha$, so we reject $H_0$ and conclude that the mean resale values of cars from different years are significantly different. Let's see what that difference looks like. "
   ]
  },
  {
   "cell_type": "code",
   "execution_count": 56,
   "id": "250c4db5",
   "metadata": {},
   "outputs": [
    {
     "data": {
      "text/html": [
       "<div>\n",
       "<style scoped>\n",
       "    .dataframe tbody tr th:only-of-type {\n",
       "        vertical-align: middle;\n",
       "    }\n",
       "\n",
       "    .dataframe tbody tr th {\n",
       "        vertical-align: top;\n",
       "    }\n",
       "\n",
       "    .dataframe thead th {\n",
       "        text-align: right;\n",
       "    }\n",
       "</style>\n",
       "<table border=\"1\" class=\"dataframe\">\n",
       "  <thead>\n",
       "    <tr style=\"text-align: right;\">\n",
       "      <th></th>\n",
       "      <th>0</th>\n",
       "      <th>1</th>\n",
       "      <th>2</th>\n",
       "      <th>3</th>\n",
       "      <th>4</th>\n",
       "      <th>5</th>\n",
       "      <th>6</th>\n",
       "      <th>7</th>\n",
       "      <th>8</th>\n",
       "      <th>9</th>\n",
       "      <th>...</th>\n",
       "      <th>24</th>\n",
       "      <th>25</th>\n",
       "      <th>26</th>\n",
       "      <th>27</th>\n",
       "      <th>28</th>\n",
       "      <th>29</th>\n",
       "      <th>30</th>\n",
       "      <th>31</th>\n",
       "      <th>32</th>\n",
       "      <th>33</th>\n",
       "    </tr>\n",
       "  </thead>\n",
       "  <tbody>\n",
       "    <tr>\n",
       "      <th>year</th>\n",
       "      <td>1982.0</td>\n",
       "      <td>1983.0</td>\n",
       "      <td>1984.0</td>\n",
       "      <td>1985.0</td>\n",
       "      <td>1986.00</td>\n",
       "      <td>1987.0</td>\n",
       "      <td>1988.00</td>\n",
       "      <td>1989.0</td>\n",
       "      <td>1990.00</td>\n",
       "      <td>1991.00</td>\n",
       "      <td>...</td>\n",
       "      <td>2006.0</td>\n",
       "      <td>2007.00</td>\n",
       "      <td>2008.00</td>\n",
       "      <td>2009.00</td>\n",
       "      <td>2010.00</td>\n",
       "      <td>2011.00</td>\n",
       "      <td>2012.0</td>\n",
       "      <td>2013.0</td>\n",
       "      <td>2014.00</td>\n",
       "      <td>2015.00</td>\n",
       "    </tr>\n",
       "    <tr>\n",
       "      <th>sellingprice</th>\n",
       "      <td>12750.0</td>\n",
       "      <td>5250.0</td>\n",
       "      <td>2160.0</td>\n",
       "      <td>3520.0</td>\n",
       "      <td>2538.64</td>\n",
       "      <td>1512.5</td>\n",
       "      <td>3168.18</td>\n",
       "      <td>1620.0</td>\n",
       "      <td>1435.71</td>\n",
       "      <td>943.66</td>\n",
       "      <td>...</td>\n",
       "      <td>6190.2</td>\n",
       "      <td>8021.97</td>\n",
       "      <td>9508.05</td>\n",
       "      <td>10462.31</td>\n",
       "      <td>12412.45</td>\n",
       "      <td>15851.68</td>\n",
       "      <td>16653.6</td>\n",
       "      <td>17476.0</td>\n",
       "      <td>20089.87</td>\n",
       "      <td>25966.01</td>\n",
       "    </tr>\n",
       "  </tbody>\n",
       "</table>\n",
       "<p>2 rows × 34 columns</p>\n",
       "</div>"
      ],
      "text/plain": [
       "                   0       1       2       3        4       5        6   \\\n",
       "year           1982.0  1983.0  1984.0  1985.0  1986.00  1987.0  1988.00   \n",
       "sellingprice  12750.0  5250.0  2160.0  3520.0  2538.64  1512.5  3168.18   \n",
       "\n",
       "                  7        8        9   ...      24       25       26  \\\n",
       "year          1989.0  1990.00  1991.00  ...  2006.0  2007.00  2008.00   \n",
       "sellingprice  1620.0  1435.71   943.66  ...  6190.2  8021.97  9508.05   \n",
       "\n",
       "                    27        28        29       30       31        32  \\\n",
       "year           2009.00   2010.00   2011.00   2012.0   2013.0   2014.00   \n",
       "sellingprice  10462.31  12412.45  15851.68  16653.6  17476.0  20089.87   \n",
       "\n",
       "                    33  \n",
       "year           2015.00  \n",
       "sellingprice  25966.01  \n",
       "\n",
       "[2 rows x 34 columns]"
      ]
     },
     "execution_count": 56,
     "metadata": {},
     "output_type": "execute_result"
    }
   ],
   "source": [
    "# Find mean selling price by year\n",
    "mean_resale_value_by_year = car_prices.groupby(\"year\")[\"sellingprice\"].mean().to_frame().reset_index()\n",
    "mean_resale_value_by_year[\"sellingprice\"] = round(mean_resale_value_by_year[\"sellingprice\"], 2)\n",
    "mean_resale_value_by_year.transpose()"
   ]
  },
  {
   "cell_type": "code",
   "execution_count": 57,
   "id": "732c2b6b",
   "metadata": {},
   "outputs": [
    {
     "data": {
      "image/png": "[encoded data removed]",
      "text/plain": [
       "<Figure size 640x480 with 1 Axes>"
      ]
     },
     "metadata": {},
     "output_type": "display_data"
    }
   ],
   "source": [
    "# Graph mean selling prices by year\n",
    "bars = plt.bar(mean_resale_value_by_year[\"year\"], mean_resale_value_by_year[\"sellingprice\"])\n",
    "plt.title(\"Mean Selling Price of Used Cars by Year\")\n",
    "plt.xlabel(\"Year\")\n",
    "plt.ylabel(\"Selling Price (USD)\")\n",
    "plt.show()"
   ]
  },
  {
   "cell_type": "markdown",
   "id": "efc780ad",
   "metadata": {},
   "source": [
    "We see an interesting parabolic shape to the distribution. This is likely because cars from the 1980s are considered classics, cars from 2005 and onwards are modern enough to be worth a decent amount, and everything in the middle is stuck in the no-man's-land of being old but not quite classic, netting them far lower resale values. "
   ]
  },
  {
   "cell_type": "markdown",
   "id": "d4a1ed62",
   "metadata": {},
   "source": [
    "### Does a vehicle's transmission type significantly impact its resale value?\n",
    "To answer this question, we will first run a two-sample t test to see if the mean resale values of vehicles with automatic and manual transmissions are significantly different. \n",
    "\n",
    "* $H_0$: There is no significant difference between the mean resale values of automatics and manuals. \n",
    "* $H_a$: There is a significant difference. \n",
    "* $\\alpha$ = 0.05. "
   ]
  },
  {
   "cell_type": "code",
   "execution_count": 58,
   "id": "1ae0240e",
   "metadata": {},
   "outputs": [
    {
     "name": "stdout",
     "output_type": "stream",
     "text": [
      "Levene stat: 11.437424042417007\n",
      "P-value: 0.0007198444027435758\n"
     ]
    }
   ],
   "source": [
    "from scipy.stats import ttest_ind, levene\n",
    "\n",
    "# Group data by transmission type\n",
    "automatics = car_prices[car_prices[\"transmission\"] == \"automatic\"][\"sellingprice\"]\n",
    "manuals = car_prices[car_prices[\"transmission\"] == \"manual\"][\"sellingprice\"]\n",
    "\n",
    "# Check for equal variances\n",
    "stat, p_value_levene = levene(automatics, manuals)\n",
    "print(\"Levene stat:\", stat)\n",
    "print(\"P-value:\", p_value_levene)"
   ]
  },
  {
   "cell_type": "markdown",
   "id": "77200551",
   "metadata": {},
   "source": [
    "We conclude from Levene's test that the two groups have unequal variances, so we will account for this when invoking the `ttest_ind` function to perform the test. "
   ]
  },
  {
   "cell_type": "code",
   "execution_count": 59,
   "id": "5ef88c7d",
   "metadata": {},
   "outputs": [
    {
     "name": "stdout",
     "output_type": "stream",
     "text": [
      "T stat: 31.497291387886513\n",
      "P-value: 3.4897392940469945e-212\n"
     ]
    }
   ],
   "source": [
    "# Run two-sample t test\n",
    "t_stat, p_value = ttest_ind(automatics, manuals, equal_var=False)\n",
    "print(\"T stat:\", t_stat)\n",
    "print(\"P-value:\", p_value)"
   ]
  },
  {
   "cell_type": "markdown",
   "id": "f35f247b",
   "metadata": {},
   "source": [
    "We get a P-value significantly less than $\\alpha$, so we reject $H_0$ and conclude that the transmission type of a used vehicle has a significant impact on its resale value. How much of an impact does it have, though? "
   ]
  },
  {
   "cell_type": "code",
   "execution_count": 60,
   "id": "f70ab615",
   "metadata": {},
   "outputs": [
    {
     "name": "stdout",
     "output_type": "stream",
     "text": [
      "Mean automatic price:$ 13689.05\n",
      "Mean manual price:$ 11211.45\n"
     ]
    }
   ],
   "source": [
    "# Find mean resale values of automatics and manuals\n",
    "print(\"Mean automatic price:$\", round(automatics.mean(), 2))\n",
    "print(\"Mean manual price:$\", round(manuals.mean(), 2))"
   ]
  },
  {
   "cell_type": "markdown",
   "id": "ef10aa77",
   "metadata": {},
   "source": [
    "There is a ~<span>&dollar;2,400</span> difference between the price of an average automatic and an average manual. "
   ]
  },
  {
   "cell_type": "markdown",
   "id": "e418f9b7",
   "metadata": {},
   "source": [
    "### Does the state/province in which a car is sold affect its resale value?\n",
    "We will use a one-way ANOVA test to answer this question. \n",
    "\n",
    "* $H_0$: There is no significant difference between the mean resale values in each state/province. \n",
    "* $H_a$: There is a significant difference. \n",
    "* $\\alpha$ = 0.05. "
   ]
  },
  {
   "cell_type": "code",
   "execution_count": 61,
   "id": "c04b2b3c",
   "metadata": {},
   "outputs": [
    {
     "name": "stdout",
     "output_type": "stream",
     "text": [
      "F-statistic: 807.7576343816219\n",
      "P-value: 0.0\n"
     ]
    }
   ],
   "source": [
    "# Group by year\n",
    "mean_resale_value_by_state = [group[\"sellingprice\"] for year, group in car_prices.groupby(\"state\")]\n",
    "\n",
    "# Perform one-way ANOVA test\n",
    "f_stat, p_value = f_oneway(*mean_resale_value_by_state)\n",
    "print(\"F-statistic:\", f_stat)\n",
    "print(\"P-value:\", p_value)"
   ]
  },
  {
   "cell_type": "markdown",
   "id": "d0c24742",
   "metadata": {},
   "source": [
    "The P-value for this test is less than $\\alpha$, so we reject $H_0$ and conclude that the state/province a car is sold in has a significant impact on its resale value. "
   ]
  },
  {
   "cell_type": "code",
   "execution_count": 62,
   "id": "2db0f822",
   "metadata": {
    "scrolled": false
   },
   "outputs": [
    {
     "data": {
      "image/png": "[encoded data removed]",
      "text/plain": [
       "<Figure size 640x480 with 1 Axes>"
      ]
     },
     "metadata": {},
     "output_type": "display_data"
    }
   ],
   "source": [
    "# Find the mean resale value by state\n",
    "mean_resale_value_by_state = car_prices.groupby(\"state\")[\"sellingprice\"].mean().to_frame().reset_index()\n",
    "mean_resale_value_by_state = mean_resale_value_by_state.sort_values(by=\"sellingprice\", ascending=False)\n",
    "\n",
    "# Show resale values by state\n",
    "bars = plt.bar(mean_resale_value_by_state[\"state\"], mean_resale_value_by_state[\"sellingprice\"])\n",
    "plt.title(\"Mean Resale Value of Used Vehicles by State/Province\")\n",
    "plt.xticks(rotation=90)\n",
    "plt.xlabel(\"State/Province\")\n",
    "plt.ylabel(\"Mean Resale Value (USD)\")\n",
    "plt.show()"
   ]
  },
  {
   "cell_type": "markdown",
   "id": "1d6cfa9c",
   "metadata": {},
   "source": [
    "We see that the average used car in Ontario goes for over double what it would in several states and provinces, confirming that location has a big impact on a vehicle's resale value. "
   ]
  },
  {
   "cell_type": "code",
   "execution_count": 63,
   "id": "d8fcf1f1",
   "metadata": {
    "scrolled": false
   },
   "outputs": [
    {
     "data": {
      "image/png": "[encoded data removed]",
      "text/plain": [
       "<Figure size 640x480 with 1 Axes>"
      ]
     },
     "metadata": {},
     "output_type": "display_data"
    }
   ],
   "source": [
    "# Show distribution of mean resale values by state\n",
    "sns.histplot(mean_resale_value_by_state[\"sellingprice\"])\n",
    "plt.title(\"Distribution of Mean Resale Values by State/Province\")\n",
    "plt.show()"
   ]
  },
  {
   "cell_type": "markdown",
   "id": "83c0ac30",
   "metadata": {},
   "source": [
    "Most states and provinces have an average resale value of <span>&dollar;12,000 to</span> <span>&dollar;14,000.</span>"
   ]
  },
  {
   "cell_type": "markdown",
   "id": "8ef06d65",
   "metadata": {},
   "source": [
    "### Do certain colors of cars net a higher resale value than others?\n",
    "We can use a one-way ANOVA test to answer this. \n",
    "\n",
    "* $H_0$: There is no significant difference in mean resale values between cars of different colors.\n",
    "* $H_a$: A significant difference exists. \n",
    "* $\\alpha$ = 0.05. "
   ]
  },
  {
   "cell_type": "code",
   "execution_count": 64,
   "id": "67981520",
   "metadata": {},
   "outputs": [
    {
     "name": "stdout",
     "output_type": "stream",
     "text": [
      "F-statistic: 1029.9740399659083\n",
      "P-value: 0.0\n"
     ]
    }
   ],
   "source": [
    "# Group by color\n",
    "mean_resale_value_by_color = [group[\"sellingprice\"] for year, group in car_prices.groupby(\"color\")]\n",
    "\n",
    "# Perform one-way ANOVA test\n",
    "f_stat, p_value = f_oneway(*mean_resale_value_by_color)\n",
    "print(\"F-statistic:\", f_stat)\n",
    "print(\"P-value:\", p_value)"
   ]
  },
  {
   "cell_type": "markdown",
   "id": "4b40a41a",
   "metadata": {},
   "source": [
    "Our p-value is significantly less than $\\alpha$, so we reject $H_0$ and conclude that mean resale values differ significantly between cars of different colors. "
   ]
  },
  {
   "cell_type": "code",
   "execution_count": 65,
   "id": "544d9d95",
   "metadata": {},
   "outputs": [
    {
     "data": {
      "text/html": [
       "<div>\n",
       "<style scoped>\n",
       "    .dataframe tbody tr th:only-of-type {\n",
       "        vertical-align: middle;\n",
       "    }\n",
       "\n",
       "    .dataframe tbody tr th {\n",
       "        vertical-align: top;\n",
       "    }\n",
       "\n",
       "    .dataframe thead th {\n",
       "        text-align: right;\n",
       "    }\n",
       "</style>\n",
       "<table border=\"1\" class=\"dataframe\">\n",
       "  <thead>\n",
       "    <tr style=\"text-align: right;\">\n",
       "      <th></th>\n",
       "      <th>5</th>\n",
       "      <th>1</th>\n",
       "      <th>3</th>\n",
       "      <th>10</th>\n",
       "      <th>17</th>\n",
       "      <th>7</th>\n",
       "      <th>9</th>\n",
       "      <th>15</th>\n",
       "      <th>11</th>\n",
       "      <th>14</th>\n",
       "      <th>18</th>\n",
       "      <th>13</th>\n",
       "      <th>4</th>\n",
       "      <th>12</th>\n",
       "      <th>2</th>\n",
       "      <th>0</th>\n",
       "      <th>16</th>\n",
       "      <th>6</th>\n",
       "      <th>8</th>\n",
       "    </tr>\n",
       "  </thead>\n",
       "  <tbody>\n",
       "    <tr>\n",
       "      <th>color</th>\n",
       "      <td>charcoal</td>\n",
       "      <td>black</td>\n",
       "      <td>brown</td>\n",
       "      <td>off-white</td>\n",
       "      <td>white</td>\n",
       "      <td>gray</td>\n",
       "      <td>lime</td>\n",
       "      <td>silver</td>\n",
       "      <td>orange</td>\n",
       "      <td>red</td>\n",
       "      <td>yellow</td>\n",
       "      <td>purple</td>\n",
       "      <td>burgundy</td>\n",
       "      <td>pink</td>\n",
       "      <td>blue</td>\n",
       "      <td>beige</td>\n",
       "      <td>turquoise</td>\n",
       "      <td>gold</td>\n",
       "      <td>green</td>\n",
       "    </tr>\n",
       "    <tr>\n",
       "      <th>sellingprice</th>\n",
       "      <td>16247.5</td>\n",
       "      <td>15508.97</td>\n",
       "      <td>15352.81</td>\n",
       "      <td>15230.23</td>\n",
       "      <td>14740.55</td>\n",
       "      <td>13951.27</td>\n",
       "      <td>13256.67</td>\n",
       "      <td>13223.05</td>\n",
       "      <td>12787.11</td>\n",
       "      <td>12688.91</td>\n",
       "      <td>12652.2</td>\n",
       "      <td>11969.68</td>\n",
       "      <td>11903.0</td>\n",
       "      <td>11746.43</td>\n",
       "      <td>11440.61</td>\n",
       "      <td>9431.17</td>\n",
       "      <td>8374.48</td>\n",
       "      <td>8324.71</td>\n",
       "      <td>8301.81</td>\n",
       "    </tr>\n",
       "  </tbody>\n",
       "</table>\n",
       "</div>"
      ],
      "text/plain": [
       "                    5         1         3          10        17        7   \\\n",
       "color         charcoal     black     brown  off-white     white      gray   \n",
       "sellingprice   16247.5  15508.97  15352.81   15230.23  14740.55  13951.27   \n",
       "\n",
       "                    9         15        11        14       18        13  \\\n",
       "color             lime    silver    orange       red   yellow    purple   \n",
       "sellingprice  13256.67  13223.05  12787.11  12688.91  12652.2  11969.68   \n",
       "\n",
       "                    4         12        2        0          16       6   \\\n",
       "color         burgundy      pink      blue    beige  turquoise     gold   \n",
       "sellingprice   11903.0  11746.43  11440.61  9431.17    8374.48  8324.71   \n",
       "\n",
       "                   8   \n",
       "color           green  \n",
       "sellingprice  8301.81  "
      ]
     },
     "execution_count": 65,
     "metadata": {},
     "output_type": "execute_result"
    }
   ],
   "source": [
    "# Find mean resale value of cars by color\n",
    "mean_resale_value_by_color = car_prices.groupby(\"color\")[\"sellingprice\"].mean().to_frame().reset_index()\n",
    "mean_resale_value_by_color[\"sellingprice\"] = round(mean_resale_value_by_color[\"sellingprice\"], 2)\n",
    "mean_resale_value_by_color = mean_resale_value_by_color.sort_values(by=\"sellingprice\", ascending=False)\n",
    "mean_resale_value_by_color.transpose()"
   ]
  },
  {
   "cell_type": "markdown",
   "id": "61bbc0ab",
   "metadata": {},
   "source": [
    "We see that charcoal and black are the most valuable colors, suggesting car dealerships highly value dark color schemes, probably because consumer demand for them is higher. "
   ]
  },
  {
   "cell_type": "markdown",
   "id": "e9fcf77e",
   "metadata": {},
   "source": [
    "### Which numeric factor (year, condition, or odometer) has the largest effect on resale value?\n",
    "We can conduct correlation analysis using a correlation matrix to determine which factor is most important in determining a car's resale value. "
   ]
  },
  {
   "cell_type": "code",
   "execution_count": 66,
   "id": "18cc7624",
   "metadata": {},
   "outputs": [
    {
     "data": {
      "text/html": [
       "<div>\n",
       "<style scoped>\n",
       "    .dataframe tbody tr th:only-of-type {\n",
       "        vertical-align: middle;\n",
       "    }\n",
       "\n",
       "    .dataframe tbody tr th {\n",
       "        vertical-align: top;\n",
       "    }\n",
       "\n",
       "    .dataframe thead th {\n",
       "        text-align: right;\n",
       "    }\n",
       "</style>\n",
       "<table border=\"1\" class=\"dataframe\">\n",
       "  <thead>\n",
       "    <tr style=\"text-align: right;\">\n",
       "      <th></th>\n",
       "      <th>year</th>\n",
       "      <th>condition</th>\n",
       "      <th>odometer</th>\n",
       "      <th>sellingprice</th>\n",
       "    </tr>\n",
       "  </thead>\n",
       "  <tbody>\n",
       "    <tr>\n",
       "      <th>0</th>\n",
       "      <td>2014</td>\n",
       "      <td>4.0</td>\n",
       "      <td>14571.0</td>\n",
       "      <td>32750</td>\n",
       "    </tr>\n",
       "    <tr>\n",
       "      <th>1</th>\n",
       "      <td>2013</td>\n",
       "      <td>4.2</td>\n",
       "      <td>39300.0</td>\n",
       "      <td>26200</td>\n",
       "    </tr>\n",
       "    <tr>\n",
       "      <th>2</th>\n",
       "      <td>2014</td>\n",
       "      <td>3.4</td>\n",
       "      <td>30275.0</td>\n",
       "      <td>13600</td>\n",
       "    </tr>\n",
       "    <tr>\n",
       "      <th>3</th>\n",
       "      <td>2011</td>\n",
       "      <td>2.8</td>\n",
       "      <td>31727.0</td>\n",
       "      <td>32200</td>\n",
       "    </tr>\n",
       "    <tr>\n",
       "      <th>4</th>\n",
       "      <td>2010</td>\n",
       "      <td>4.3</td>\n",
       "      <td>32880.0</td>\n",
       "      <td>11500</td>\n",
       "    </tr>\n",
       "  </tbody>\n",
       "</table>\n",
       "</div>"
      ],
      "text/plain": [
       "   year  condition  odometer  sellingprice\n",
       "0  2014        4.0   14571.0         32750\n",
       "1  2013        4.2   39300.0         26200\n",
       "2  2014        3.4   30275.0         13600\n",
       "3  2011        2.8   31727.0         32200\n",
       "4  2010        4.3   32880.0         11500"
      ]
     },
     "execution_count": 66,
     "metadata": {},
     "output_type": "execute_result"
    }
   ],
   "source": [
    "# Get subset of dataframe with only needed columns\n",
    "car_prices_numeric = car_prices[[\"year\", \"condition\", \"odometer\", \"sellingprice\"]]\n",
    "car_prices_numeric = car_prices_numeric.sample(1000, random_state=42).reset_index(drop=True)\n",
    "car_prices_numeric.head()"
   ]
  },
  {
   "cell_type": "code",
   "execution_count": 67,
   "id": "dfee791f",
   "metadata": {},
   "outputs": [
    {
     "data": {
      "text/html": [
       "<div>\n",
       "<style scoped>\n",
       "    .dataframe tbody tr th:only-of-type {\n",
       "        vertical-align: middle;\n",
       "    }\n",
       "\n",
       "    .dataframe tbody tr th {\n",
       "        vertical-align: top;\n",
       "    }\n",
       "\n",
       "    .dataframe thead th {\n",
       "        text-align: right;\n",
       "    }\n",
       "</style>\n",
       "<table border=\"1\" class=\"dataframe\">\n",
       "  <thead>\n",
       "    <tr style=\"text-align: right;\">\n",
       "      <th></th>\n",
       "      <th>year</th>\n",
       "      <th>condition</th>\n",
       "      <th>odometer</th>\n",
       "      <th>sellingprice</th>\n",
       "    </tr>\n",
       "  </thead>\n",
       "  <tbody>\n",
       "    <tr>\n",
       "      <th>year</th>\n",
       "      <td>1.000000</td>\n",
       "      <td>0.557633</td>\n",
       "      <td>-0.777718</td>\n",
       "      <td>0.578604</td>\n",
       "    </tr>\n",
       "    <tr>\n",
       "      <th>condition</th>\n",
       "      <td>0.557633</td>\n",
       "      <td>1.000000</td>\n",
       "      <td>-0.543388</td>\n",
       "      <td>0.560886</td>\n",
       "    </tr>\n",
       "    <tr>\n",
       "      <th>odometer</th>\n",
       "      <td>-0.777718</td>\n",
       "      <td>-0.543388</td>\n",
       "      <td>1.000000</td>\n",
       "      <td>-0.589520</td>\n",
       "    </tr>\n",
       "    <tr>\n",
       "      <th>sellingprice</th>\n",
       "      <td>0.578604</td>\n",
       "      <td>0.560886</td>\n",
       "      <td>-0.589520</td>\n",
       "      <td>1.000000</td>\n",
       "    </tr>\n",
       "  </tbody>\n",
       "</table>\n",
       "</div>"
      ],
      "text/plain": [
       "                  year  condition  odometer  sellingprice\n",
       "year          1.000000   0.557633 -0.777718      0.578604\n",
       "condition     0.557633   1.000000 -0.543388      0.560886\n",
       "odometer     -0.777718  -0.543388  1.000000     -0.589520\n",
       "sellingprice  0.578604   0.560886 -0.589520      1.000000"
      ]
     },
     "execution_count": 67,
     "metadata": {},
     "output_type": "execute_result"
    }
   ],
   "source": [
    "# Generate correlation matrix\n",
    "car_prices_numeric.corr()"
   ]
  },
  {
   "cell_type": "markdown",
   "id": "ca08a156",
   "metadata": {},
   "source": [
    "We see that `odometer` has the largest absolute correlation coefficient with `sellingprice`, so we conclude that `odometer` is slightly more important than `year` or `condition` for determining the selling price of a used vehicle, though it is close. "
   ]
  },
  {
   "cell_type": "markdown",
   "id": "1b25e2c4",
   "metadata": {},
   "source": [
    "## Task 5\n",
    "Fit a regression model to investigate the relationship between two or more variables in the dataset. Use appropriate techniques to validate the assumptions of the regression model, such as normality, linearity, and homoscedasticity.\n",
    "\n",
    "<i>We will be exploring the relationship between</i>`year`, `condition`, `odometer` <i>and</i> `sellingprice` <i>through a regression model.</i>"
   ]
  },
  {
   "cell_type": "code",
   "execution_count": 68,
   "id": "6a8d8446",
   "metadata": {},
   "outputs": [
    {
     "name": "stdout",
     "output_type": "stream",
     "text": [
      "                            OLS Regression Results                            \n",
      "==============================================================================\n",
      "Dep. Variable:           sellingprice   R-squared:                       0.444\n",
      "Model:                            OLS   Adj. R-squared:                  0.443\n",
      "Method:                 Least Squares   F-statistic:                     265.6\n",
      "Date:                Tue, 23 Jan 2024   Prob (F-statistic):          1.22e-126\n",
      "Time:                        12:22:01   Log-Likelihood:                -10333.\n",
      "No. Observations:                1000   AIC:                         2.067e+04\n",
      "Df Residuals:                     996   BIC:                         2.069e+04\n",
      "Df Model:                           3                                         \n",
      "Covariance Type:            nonrobust                                         \n",
      "==============================================================================\n",
      "                 coef    std err          t      P>|t|      [0.025      0.975]\n",
      "------------------------------------------------------------------------------\n",
      "const      -1.012e+06   1.98e+05     -5.124      0.000    -1.4e+06   -6.24e+05\n",
      "year         506.7413     98.233      5.159      0.000     313.973     699.509\n",
      "condition   3152.8312    302.890     10.409      0.000    2558.456    3747.207\n",
      "odometer      -0.0488      0.007     -7.000      0.000      -0.062      -0.035\n",
      "==============================================================================\n",
      "Omnibus:                      674.574   Durbin-Watson:                   2.032\n",
      "Prob(Omnibus):                  0.000   Jarque-Bera (JB):            12390.643\n",
      "Skew:                           2.826   Prob(JB):                         0.00\n",
      "Kurtosis:                      19.292   Cond. No.                     7.42e+07\n",
      "==============================================================================\n",
      "\n",
      "Notes:\n",
      "[1] Standard Errors assume that the covariance matrix of the errors is correctly specified.\n",
      "[2] The condition number is large, 7.42e+07. This might indicate that there are\n",
      "strong multicollinearity or other numerical problems.\n"
     ]
    }
   ],
   "source": [
    "import statsmodels.api as sm\n",
    "\n",
    "# Define independent variables and dependent variable\n",
    "x_model = car_prices_numeric.drop(\"sellingprice\", axis=1)\n",
    "y_model = car_prices_numeric[\"sellingprice\"]\n",
    "\n",
    "# Add constant for intercept\n",
    "x_model = sm.add_constant(x_model)\n",
    "\n",
    "# Create the linear model\n",
    "model = sm.OLS(y_model, x_model).fit()\n",
    "\n",
    "# Predict charges\n",
    "predicted_sellingprice = model.predict(x_model)\n",
    "car_prices_numeric['predicted_sellingprice'] = predicted_sellingprice\n",
    "\n",
    "# Calculate residuals\n",
    "car_prices_numeric[\"residual\"] = car_prices_numeric[\"sellingprice\"] - car_prices_numeric[\"predicted_sellingprice\"]\n",
    "\n",
    "# Create backup of dataframe from first regression run\n",
    "car_prices_numeric_backup1 = car_prices_numeric.copy()\n",
    "\n",
    "# Summarize model results\n",
    "print(model.summary())"
   ]
  },
  {
   "cell_type": "markdown",
   "id": "7ce888e8",
   "metadata": {},
   "source": [
    "Let's check the predictions that were generated earlier: "
   ]
  },
  {
   "cell_type": "code",
   "execution_count": 69,
   "id": "3da7d68a",
   "metadata": {},
   "outputs": [
    {
     "data": {
      "text/html": [
       "<div>\n",
       "<style scoped>\n",
       "    .dataframe tbody tr th:only-of-type {\n",
       "        vertical-align: middle;\n",
       "    }\n",
       "\n",
       "    .dataframe tbody tr th {\n",
       "        vertical-align: top;\n",
       "    }\n",
       "\n",
       "    .dataframe thead th {\n",
       "        text-align: right;\n",
       "    }\n",
       "</style>\n",
       "<table border=\"1\" class=\"dataframe\">\n",
       "  <thead>\n",
       "    <tr style=\"text-align: right;\">\n",
       "      <th></th>\n",
       "      <th>year</th>\n",
       "      <th>condition</th>\n",
       "      <th>odometer</th>\n",
       "      <th>sellingprice</th>\n",
       "      <th>predicted_sellingprice</th>\n",
       "      <th>residual</th>\n",
       "    </tr>\n",
       "  </thead>\n",
       "  <tbody>\n",
       "    <tr>\n",
       "      <th>0</th>\n",
       "      <td>2014</td>\n",
       "      <td>4.0</td>\n",
       "      <td>14571.0</td>\n",
       "      <td>32750</td>\n",
       "      <td>20389.426086</td>\n",
       "      <td>12360.573914</td>\n",
       "    </tr>\n",
       "    <tr>\n",
       "      <th>1</th>\n",
       "      <td>2013</td>\n",
       "      <td>4.2</td>\n",
       "      <td>39300.0</td>\n",
       "      <td>26200</td>\n",
       "      <td>19307.474907</td>\n",
       "      <td>6892.525093</td>\n",
       "    </tr>\n",
       "    <tr>\n",
       "      <th>2</th>\n",
       "      <td>2014</td>\n",
       "      <td>3.4</td>\n",
       "      <td>30275.0</td>\n",
       "      <td>13600</td>\n",
       "      <td>17732.006620</td>\n",
       "      <td>-4132.006620</td>\n",
       "    </tr>\n",
       "    <tr>\n",
       "      <th>3</th>\n",
       "      <td>2011</td>\n",
       "      <td>2.8</td>\n",
       "      <td>31727.0</td>\n",
       "      <td>32200</td>\n",
       "      <td>14249.285181</td>\n",
       "      <td>17950.714819</td>\n",
       "    </tr>\n",
       "    <tr>\n",
       "      <th>4</th>\n",
       "      <td>2010</td>\n",
       "      <td>4.3</td>\n",
       "      <td>32880.0</td>\n",
       "      <td>11500</td>\n",
       "      <td>18415.570864</td>\n",
       "      <td>-6915.570864</td>\n",
       "    </tr>\n",
       "  </tbody>\n",
       "</table>\n",
       "</div>"
      ],
      "text/plain": [
       "   year  condition  odometer  sellingprice  predicted_sellingprice  \\\n",
       "0  2014        4.0   14571.0         32750            20389.426086   \n",
       "1  2013        4.2   39300.0         26200            19307.474907   \n",
       "2  2014        3.4   30275.0         13600            17732.006620   \n",
       "3  2011        2.8   31727.0         32200            14249.285181   \n",
       "4  2010        4.3   32880.0         11500            18415.570864   \n",
       "\n",
       "       residual  \n",
       "0  12360.573914  \n",
       "1   6892.525093  \n",
       "2  -4132.006620  \n",
       "3  17950.714819  \n",
       "4  -6915.570864  "
      ]
     },
     "execution_count": 69,
     "metadata": {},
     "output_type": "execute_result"
    }
   ],
   "source": [
    "# Create backup of first regression run results\n",
    "car_prices_numeric_backup2 = car_prices_numeric.copy()\n",
    "\n",
    "car_prices_numeric.head()"
   ]
  },
  {
   "cell_type": "markdown",
   "id": "67f183b7",
   "metadata": {},
   "source": [
    "And check a residual plot: "
   ]
  },
  {
   "cell_type": "code",
   "execution_count": 70,
   "id": "623a12f8",
   "metadata": {},
   "outputs": [
    {
     "data": {
      "image/png": "[encoded data removed]",
      "text/plain": [
       "<Figure size 640x480 with 1 Axes>"
      ]
     },
     "metadata": {},
     "output_type": "display_data"
    }
   ],
   "source": [
    "# Generate residual plot\n",
    "plt.scatter(car_prices_numeric[\"predicted_sellingprice\"], car_prices_numeric[\"residual\"])\n",
    "plt.title(\"Residual Plot\")\n",
    "plt.xlabel(\"Predicted Selling Price\")\n",
    "plt.ylabel(\"Residual\")\n",
    "plt.show()"
   ]
  },
  {
   "cell_type": "markdown",
   "id": "e6bdd296",
   "metadata": {},
   "source": [
    "We see somewhat of a cone shape in the residual plot, suggesting heteroscedasticity. Let's try applying a square root transformation to the dependent variable and see what we get. "
   ]
  },
  {
   "cell_type": "code",
   "execution_count": 71,
   "id": "951a7883",
   "metadata": {},
   "outputs": [
    {
     "data": {
      "text/html": [
       "<div>\n",
       "<style scoped>\n",
       "    .dataframe tbody tr th:only-of-type {\n",
       "        vertical-align: middle;\n",
       "    }\n",
       "\n",
       "    .dataframe tbody tr th {\n",
       "        vertical-align: top;\n",
       "    }\n",
       "\n",
       "    .dataframe thead th {\n",
       "        text-align: right;\n",
       "    }\n",
       "</style>\n",
       "<table border=\"1\" class=\"dataframe\">\n",
       "  <thead>\n",
       "    <tr style=\"text-align: right;\">\n",
       "      <th></th>\n",
       "      <th>year</th>\n",
       "      <th>condition</th>\n",
       "      <th>odometer</th>\n",
       "      <th>sellingprice</th>\n",
       "      <th>predicted_sellingprice</th>\n",
       "      <th>residual</th>\n",
       "    </tr>\n",
       "  </thead>\n",
       "  <tbody>\n",
       "    <tr>\n",
       "      <th>0</th>\n",
       "      <td>2014</td>\n",
       "      <td>4.0</td>\n",
       "      <td>14571.0</td>\n",
       "      <td>32750</td>\n",
       "      <td>20389.426086</td>\n",
       "      <td>12360.573914</td>\n",
       "    </tr>\n",
       "  </tbody>\n",
       "</table>\n",
       "</div>"
      ],
      "text/plain": [
       "   year  condition  odometer  sellingprice  predicted_sellingprice  \\\n",
       "0  2014        4.0   14571.0         32750            20389.426086   \n",
       "\n",
       "       residual  \n",
       "0  12360.573914  "
      ]
     },
     "execution_count": 71,
     "metadata": {},
     "output_type": "execute_result"
    }
   ],
   "source": [
    "car_prices_numeric.head(1)"
   ]
  },
  {
   "cell_type": "code",
   "execution_count": 72,
   "id": "1e8ef44c",
   "metadata": {},
   "outputs": [
    {
     "data": {
      "text/html": [
       "<div>\n",
       "<style scoped>\n",
       "    .dataframe tbody tr th:only-of-type {\n",
       "        vertical-align: middle;\n",
       "    }\n",
       "\n",
       "    .dataframe tbody tr th {\n",
       "        vertical-align: top;\n",
       "    }\n",
       "\n",
       "    .dataframe thead th {\n",
       "        text-align: right;\n",
       "    }\n",
       "</style>\n",
       "<table border=\"1\" class=\"dataframe\">\n",
       "  <thead>\n",
       "    <tr style=\"text-align: right;\">\n",
       "      <th></th>\n",
       "      <th>year</th>\n",
       "      <th>condition</th>\n",
       "      <th>odometer</th>\n",
       "      <th>sellingprice</th>\n",
       "      <th>sellingprice_sqrt</th>\n",
       "      <th>predicted_sellingprice_sqrt</th>\n",
       "      <th>residual</th>\n",
       "    </tr>\n",
       "  </thead>\n",
       "  <tbody>\n",
       "    <tr>\n",
       "      <th>0</th>\n",
       "      <td>2014</td>\n",
       "      <td>4.0</td>\n",
       "      <td>14571.0</td>\n",
       "      <td>32750</td>\n",
       "      <td>180.969611</td>\n",
       "      <td>30837.091740</td>\n",
       "      <td>1912.908260</td>\n",
       "    </tr>\n",
       "    <tr>\n",
       "      <th>1</th>\n",
       "      <td>2013</td>\n",
       "      <td>4.2</td>\n",
       "      <td>39300.0</td>\n",
       "      <td>26200</td>\n",
       "      <td>161.864141</td>\n",
       "      <td>26170.279495</td>\n",
       "      <td>29.720505</td>\n",
       "    </tr>\n",
       "    <tr>\n",
       "      <th>2</th>\n",
       "      <td>2014</td>\n",
       "      <td>3.4</td>\n",
       "      <td>30275.0</td>\n",
       "      <td>13600</td>\n",
       "      <td>116.619038</td>\n",
       "      <td>13694.866072</td>\n",
       "      <td>-94.866072</td>\n",
       "    </tr>\n",
       "    <tr>\n",
       "      <th>3</th>\n",
       "      <td>2011</td>\n",
       "      <td>2.8</td>\n",
       "      <td>31727.0</td>\n",
       "      <td>32200</td>\n",
       "      <td>179.443584</td>\n",
       "      <td>32372.093435</td>\n",
       "      <td>-172.093435</td>\n",
       "    </tr>\n",
       "    <tr>\n",
       "      <th>4</th>\n",
       "      <td>2010</td>\n",
       "      <td>4.3</td>\n",
       "      <td>32880.0</td>\n",
       "      <td>11500</td>\n",
       "      <td>107.238053</td>\n",
       "      <td>12361.106557</td>\n",
       "      <td>-861.106557</td>\n",
       "    </tr>\n",
       "  </tbody>\n",
       "</table>\n",
       "</div>"
      ],
      "text/plain": [
       "   year  condition  odometer  sellingprice  sellingprice_sqrt  \\\n",
       "0  2014        4.0   14571.0         32750         180.969611   \n",
       "1  2013        4.2   39300.0         26200         161.864141   \n",
       "2  2014        3.4   30275.0         13600         116.619038   \n",
       "3  2011        2.8   31727.0         32200         179.443584   \n",
       "4  2010        4.3   32880.0         11500         107.238053   \n",
       "\n",
       "   predicted_sellingprice_sqrt     residual  \n",
       "0                 30837.091740  1912.908260  \n",
       "1                 26170.279495    29.720505  \n",
       "2                 13694.866072   -94.866072  \n",
       "3                 32372.093435  -172.093435  \n",
       "4                 12361.106557  -861.106557  "
      ]
     },
     "execution_count": 72,
     "metadata": {},
     "output_type": "execute_result"
    }
   ],
   "source": [
    "# Drop unnnecessary columns\n",
    "car_prices_numeric = car_prices_numeric.drop(columns={\"predicted_sellingprice\", \"residual\"})\n",
    "\n",
    "# Apply sqrt transformation to 'sellingprice' \n",
    "car_prices_numeric[\"sellingprice_sqrt\"] = np.sqrt(car_prices_numeric[\"sellingprice\"])\n",
    "\n",
    "# Recreate model\n",
    "x_model = car_prices_numeric.drop(\"sellingprice\", axis=1)\n",
    "y_model = car_prices_numeric[\"sellingprice\"]\n",
    "x_model = sm.add_constant(x_model)\n",
    "model = sm.OLS(y_model, x_model).fit()\n",
    "predicted_sellingprice_log = model.predict(x_model)\n",
    "car_prices_numeric['predicted_sellingprice_sqrt'] = predicted_sellingprice_log\n",
    "\n",
    "# Calculate residuals\n",
    "car_prices_numeric[\"residual\"] = car_prices_numeric[\"sellingprice\"] - car_prices_numeric[\"predicted_sellingprice_sqrt\"]\n",
    "\n",
    "# Show new predictions\n",
    "car_prices_numeric.head()"
   ]
  },
  {
   "cell_type": "code",
   "execution_count": 73,
   "id": "e21f3ca3",
   "metadata": {
    "scrolled": false
   },
   "outputs": [
    {
     "data": {
      "image/png": "[encoded data removed]",
      "text/plain": [
       "<Figure size 640x480 with 1 Axes>"
      ]
     },
     "metadata": {},
     "output_type": "display_data"
    }
   ],
   "source": [
    "# Check new residual plot\n",
    "plt.scatter(car_prices_numeric[\"predicted_sellingprice_sqrt\"], car_prices_numeric[\"residual\"])\n",
    "plt.title(\"Residual Plot with Sqrt Transformation Applied\")\n",
    "plt.xlabel(\"Predicted Sqrt(Selling Price)\")\n",
    "plt.ylabel(\"Residual\")\n",
    "plt.show()"
   ]
  },
  {
   "cell_type": "code",
   "execution_count": 74,
   "id": "e918197c",
   "metadata": {},
   "outputs": [
    {
     "data": {
      "text/plain": [
       "<Axes: xlabel='residual', ylabel='Count'>"
      ]
     },
     "execution_count": 74,
     "metadata": {},
     "output_type": "execute_result"
    },
    {
     "data": {
      "image/png": "[encoded data removed]",
      "text/plain": [
       "<Figure size 640x480 with 1 Axes>"
      ]
     },
     "metadata": {},
     "output_type": "display_data"
    }
   ],
   "source": [
    "# Show histogram of residuals\n",
    "sns.histplot(car_prices_numeric[\"residual\"])"
   ]
  },
  {
   "cell_type": "markdown",
   "id": "8e2baaf6",
   "metadata": {},
   "source": [
    "Even though the scatterplots both before and after the square root transformation were applied suggest a clear pattern in the residuals, we can see here that the residuals are normally distributed. Thus, the normality assumption is not violated. \n",
    "\n",
    "The most obvious alternative explanation is that the relationship between `year`, `condition` and `odometer` and `sellingprice` is nonlinear. Thus, linear regression is a poor representation of the data."
   ]
  }
 ],
 "metadata": {
  "kernelspec": {
   "display_name": "Python 3 (ipykernel)",
   "language": "python",
   "name": "python3"
  },
  "language_info": {
   "codemirror_mode": {
    "name": "ipython",
    "version": 3
   },
   "file_extension": ".py",
   "mimetype": "text/x-python",
   "name": "python",
   "nbconvert_exporter": "python",
   "pygments_lexer": "ipython3",
   "version": "3.11.5"
  }
 },
 "nbformat": 4,
 "nbformat_minor": 5
}
